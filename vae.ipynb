{
 "cells": [
  {
   "cell_type": "code",
   "execution_count": 1,
   "metadata": {},
   "outputs": [],
   "source": [
    "import torch\n",
    "import torch.nn as nn\n",
    "from transformers import CLIPTextModel, CLIPTokenizer\n",
    "from diffusers import AutoencoderKL, UNet2DConditionModel, DDPMScheduler, DiffusionPipeline\n",
    "\n",
    "# model_name = \"runwayml/stable-diffusion-v1-5\"\n",
    "# encoder=CLIPTextModel.from_pretrained(model_name,subfolder=\"text_encoder\")\n",
    "# vae = AutoencoderKL.from_pretrained(model_name, subfolder='vae')\n",
    "# unet=UNet2DConditionModel.from_pretrained(model_name, subfolder='unet')\n",
    "# scheduler=DDPMScheduler.from_pretrained(model_name, subfolder='scheduler')\n",
    "# tokenizer=CLIPTokenizer.from_pretrained(model_name, subfolder='tokenizer')\n",
    "# pipeline = DiffusionPipeline.from_pretrained(model_name)\n",
    "# vae"
   ]
  },
  {
   "cell_type": "code",
   "execution_count": 2,
   "metadata": {},
   "outputs": [],
   "source": [
    "class Resnet(nn.Module):\n",
    "    def __init__(self, in_channels, out_channels):\n",
    "        super(Resnet, self).__init__()\n",
    "        self.layers = nn.Sequential(\n",
    "            nn.GroupNorm(32, in_channels,eps=1e-6),\n",
    "            nn.SiLU(),\n",
    "            nn.Conv2d(in_channels, out_channels, 3, padding=1),\n",
    "            nn.GroupNorm(32, out_channels,eps=1e-6),\n",
    "            nn.SiLU(),\n",
    "            nn.Conv2d(out_channels, out_channels, 3, padding=1)\n",
    "        )\n",
    "\n",
    "        #incase the input and output channels are different\n",
    "        self.shortcut = None\n",
    "        if in_channels != out_channels:\n",
    "            self.shortcut = nn.Conv2d(in_channels, out_channels, 1)\n",
    "    def forward(self, x):\n",
    "        res=x\n",
    "        if self.shortcut:\n",
    "            res = self.shortcut(x)\n",
    "        return res + self.layers(x)"
   ]
  },
  {
   "cell_type": "code",
   "execution_count": 3,
   "metadata": {},
   "outputs": [],
   "source": [
    "# x=torch.tensor(torch.arange(16).reshape(1,2,2,4),dtype=torch.float32)\n",
    "# x.flatten(start_dim=2) == x.reshape(1,2,2*4)"
   ]
  },
  {
   "cell_type": "code",
   "execution_count": 4,
   "metadata": {},
   "outputs": [
    {
     "data": {
      "text/plain": [
       "0.04419417382415922"
      ]
     },
     "execution_count": 4,
     "metadata": {},
     "output_type": "execute_result"
    }
   ],
   "source": [
    "(1 / 512)**0.5"
   ]
  },
  {
   "cell_type": "code",
   "execution_count": 5,
   "metadata": {},
   "outputs": [
    {
     "data": {
      "text/plain": [
       "torch.Size([1, 512, 64, 64])"
      ]
     },
     "execution_count": 5,
     "metadata": {},
     "output_type": "execute_result"
    }
   ],
   "source": [
    "class Attention(nn.Module):\n",
    "    def __init__(self):\n",
    "        super(Attention, self).__init__()\n",
    "        self.norm = nn.GroupNorm(32, 512,eps=1e-6)\n",
    "        self.q=nn.Linear(512, 512)\n",
    "        self.k=nn.Linear(512, 512)\n",
    "        self.v=nn.Linear(512, 512)\n",
    "        self.out=nn.Linear(512, 512)\n",
    "    def forward(self, x):\n",
    "        res = x\n",
    "        x=self.norm(x)\n",
    "        #b,512,64,64 -> b,512,64*64 -> b,64*64,512\n",
    "        x=x.reshape(x.shape[0], 512, 64*64).transpose(1,2)\n",
    "        q=self.q(x)\n",
    "        k=self.k(x)\n",
    "        v=self.v(x) \n",
    "        k=k.transpose(1,2)\n",
    "        #b,64*64,512 x b,512,64*64 -> b,64*64,64*64\n",
    "        #(1/512)**0/5 = 0.044194173824159216\n",
    "        atten = torch.bmm(q, k) * 0.044194173824159216\n",
    "        # atten = torch.baddbmm(torch.empty(1, 4096, 4096, device=q.device),\n",
    "        #                       q,\n",
    "        #                       k,\n",
    "        #                       beta=0,\n",
    "        #                       alpha=0.044194173824159216)\n",
    "\n",
    "\n",
    "\n",
    "\n",
    "        atten = torch.nn.functional.softmax(atten, dim=2)\n",
    "        #b,64*64,64*64 x b,64*64,512 -> b,64*64,512\n",
    "\n",
    "        atten = torch.bmm(atten, v)\n",
    "\n",
    "        atten =self.out(atten)\n",
    "\n",
    "        atten = atten.transpose(1,2).reshape(res.shape)\n",
    "        return res + atten\n",
    "\n",
    "Attention()(torch.randn(1, 512, 64, 64)).shape\n",
    "\n",
    "        #x is of shape (batch, 512, 64, 64)\n"
   ]
  },
  {
   "cell_type": "code",
   "execution_count": 6,
   "metadata": {},
   "outputs": [],
   "source": [
    "class Pad(nn.Module):\n",
    "    def forward(self, x):\n",
    "        #pad the input tensor with 0s on last two dimensions\n",
    "        return nn.functional.pad(x, (0, 1, 0, 1), mode='constant', value=0)"
   ]
  },
  {
   "cell_type": "code",
   "execution_count": 7,
   "metadata": {},
   "outputs": [],
   "source": [
    "class VAE(torch.nn.Module):\n",
    "\n",
    "    def __init__(self):\n",
    "        super().__init__()\n",
    "\n",
    "        self.encoder = torch.nn.Sequential(\n",
    "            #in\n",
    "            torch.nn.Conv2d(3, 128, kernel_size=3, stride=1, padding=1),\n",
    "\n",
    "            #down\n",
    "            torch.nn.Sequential(\n",
    "                Resnet(128, 128),\n",
    "                Resnet(128, 128),\n",
    "                torch.nn.Sequential(\n",
    "                    Pad(),\n",
    "                    torch.nn.Conv2d(128, 128, 3, stride=2, padding=0),\n",
    "                ),\n",
    "            ),\n",
    "            torch.nn.Sequential(\n",
    "                Resnet(128, 256),\n",
    "                Resnet(256, 256),\n",
    "                torch.nn.Sequential(\n",
    "                    Pad(),\n",
    "                    torch.nn.Conv2d(256, 256, 3, stride=2, padding=0),\n",
    "                ),\n",
    "            ),\n",
    "            torch.nn.Sequential(\n",
    "                Resnet(256, 512),\n",
    "                Resnet(512, 512),\n",
    "                torch.nn.Sequential(\n",
    "                    Pad(),\n",
    "                    torch.nn.Conv2d(512, 512, 3, stride=2, padding=0),\n",
    "                ),\n",
    "            ),\n",
    "            torch.nn.Sequential(\n",
    "                Resnet(512, 512),\n",
    "                Resnet(512, 512),\n",
    "            ),\n",
    "\n",
    "            #mid\n",
    "            torch.nn.Sequential(\n",
    "                Resnet(512, 512),\n",
    "                Attention(),\n",
    "                Resnet(512, 512),\n",
    "            ),\n",
    "\n",
    "            #out\n",
    "            torch.nn.Sequential(\n",
    "                torch.nn.GroupNorm(num_channels=512, num_groups=32, eps=1e-6),\n",
    "                torch.nn.SiLU(),\n",
    "                torch.nn.Conv2d(512, 8, 3, padding=1),\n",
    "            ),\n",
    "\n",
    "            #norm distribution layer\n",
    "            torch.nn.Conv2d(8, 8, 1),\n",
    "        )\n",
    "\n",
    "        self.decoder = torch.nn.Sequential(\n",
    "            #norm distribution layer\n",
    "            torch.nn.Conv2d(4, 4, 1),\n",
    "\n",
    "            #in\n",
    "            torch.nn.Conv2d(4, 512, kernel_size=3, stride=1, padding=1),\n",
    "\n",
    "            #middle\n",
    "            torch.nn.Sequential(Resnet(512, 512), Attention(), Resnet(512, 512)),\n",
    "\n",
    "            #up\n",
    "            torch.nn.Sequential(\n",
    "                Resnet(512, 512),\n",
    "                Resnet(512, 512),\n",
    "                Resnet(512, 512),\n",
    "                torch.nn.Upsample(scale_factor=2.0, mode='nearest'),\n",
    "                torch.nn.Conv2d(512, 512, kernel_size=3, padding=1),\n",
    "            ),\n",
    "            torch.nn.Sequential(\n",
    "                Resnet(512, 512),\n",
    "                Resnet(512, 512),\n",
    "                Resnet(512, 512),\n",
    "                torch.nn.Upsample(scale_factor=2.0, mode='nearest'),\n",
    "                torch.nn.Conv2d(512, 512, kernel_size=3, padding=1),\n",
    "            ),\n",
    "            torch.nn.Sequential(\n",
    "                Resnet(512, 256),\n",
    "                Resnet(256, 256),\n",
    "                Resnet(256, 256),\n",
    "                torch.nn.Upsample(scale_factor=2.0, mode='nearest'),\n",
    "                torch.nn.Conv2d(256, 256, kernel_size=3, padding=1),\n",
    "            ),\n",
    "            torch.nn.Sequential(\n",
    "                Resnet(256, 128),\n",
    "                Resnet(128, 128),\n",
    "                Resnet(128, 128),\n",
    "            ),\n",
    "\n",
    "            #out\n",
    "            torch.nn.Sequential(\n",
    "                torch.nn.GroupNorm(num_channels=128, num_groups=32, eps=1e-6),\n",
    "                torch.nn.SiLU(),\n",
    "                torch.nn.Conv2d(128, 3, 3, padding=1),\n",
    "            ),\n",
    "        )\n",
    "\n",
    "    def sample(self, h):\n",
    "        #repameterization trick use first 4 channels as mean and last 4 as logvar\n",
    "        #h -> [1, 8, 64, 64]\n",
    "\n",
    "        #[1, 4, 64, 64]\n",
    "        mean = h[:, :4]\n",
    "        logvar = h[:, 4:]\n",
    "        std = logvar.exp()**0.5\n",
    "\n",
    "        #[1, 4, 64, 64]\n",
    "        h = torch.randn(mean.shape, device=mean.device)\n",
    "        h = mean + std * h\n",
    "\n",
    "        return h\n",
    "\n",
    "    def forward(self, x):\n",
    "        #x -> [1, 3, 512, 512]\n",
    "\n",
    "        #[1, 3, 512, 512] -> [1, 8, 64, 64]\n",
    "        h = self.encoder(x)\n",
    "\n",
    "        #[1, 8, 64, 64] -> [1, 4, 64, 64]\n",
    "        h = self.sample(h)\n",
    "\n",
    "        #[1, 4, 64, 64] -> [1, 3, 512, 512]\n",
    "        h = self.decoder(h)\n",
    "\n",
    "        return h\n",
    "\n",
    "\n",
    "# VAE()(torch.randn(1, 3, 512, 512)).shape\n",
    "# import torch\n",
    "# from torchview import draw_graph\n",
    "\n",
    "# model = VAE()\n",
    "# x = torch.randn(1, 3, 512, 512)\n",
    "# draw_graph(model, x).visual_graph\n",
    "# from torchsummary import summary\n",
    "# summary(model, (3, 512, 512))"
   ]
  },
  {
   "cell_type": "markdown",
   "metadata": {},
   "source": []
  },
  {
   "cell_type": "code",
   "execution_count": 8,
   "metadata": {},
   "outputs": [
    {
     "data": {
      "text/plain": [
       "<All keys matched successfully>"
      ]
     },
     "execution_count": 8,
     "metadata": {},
     "output_type": "execute_result"
    }
   ],
   "source": [
    "from diffusers import AutoencoderKL\n",
    "\n",
    "#load the pretrained model parameters\n",
    "params = AutoencoderKL.from_pretrained(\n",
    "    'runwayml/stable-diffusion-v1-5', subfolder='vae')\n",
    "\n",
    "vae = VAE()\n",
    "\n",
    "\n",
    "def load_res(model, param):\n",
    "    model.layers[0].load_state_dict(param.norm1.state_dict())\n",
    "    model.layers[2].load_state_dict(param.conv1.state_dict())\n",
    "    model.layers[3].load_state_dict(param.norm2.state_dict())\n",
    "    model.layers[5].load_state_dict(param.conv2.state_dict())\n",
    "\n",
    "    if isinstance(model.shortcut, torch.nn.Module):\n",
    "        model.shortcut.load_state_dict(param.conv_shortcut.state_dict())\n",
    "\n",
    "\n",
    "def load_atten(model, param):\n",
    "    model.norm.load_state_dict(param.group_norm.state_dict())\n",
    "    model.q.load_state_dict(param.to_q.state_dict())\n",
    "    model.k.load_state_dict(param.to_k.state_dict())\n",
    "    model.v.load_state_dict(param.to_v.state_dict())\n",
    "    model.out.load_state_dict(param.to_out[0].state_dict())\n",
    "\n",
    "\n",
    "#encoder.in\n",
    "vae.encoder[0].load_state_dict(params.encoder.conv_in.state_dict())\n",
    "\n",
    "#encoder.down\n",
    "for i in range(4):\n",
    "    load_res(vae.encoder[i + 1][0], params.encoder.down_blocks[i].resnets[0])\n",
    "    load_res(vae.encoder[i + 1][1], params.encoder.down_blocks[i].resnets[1])\n",
    "\n",
    "    if i != 3:\n",
    "        vae.encoder[i + 1][2][1].load_state_dict(\n",
    "            params.encoder.down_blocks[i].downsamplers[0].conv.state_dict())\n",
    "\n",
    "#encoder.mid\n",
    "load_res(vae.encoder[5][0], params.encoder.mid_block.resnets[0])\n",
    "load_res(vae.encoder[5][2], params.encoder.mid_block.resnets[1])\n",
    "load_atten(vae.encoder[5][1], params.encoder.mid_block.attentions[0])\n",
    "\n",
    "#encoder.out\n",
    "vae.encoder[6][0].load_state_dict(params.encoder.conv_norm_out.state_dict())\n",
    "vae.encoder[6][2].load_state_dict(params.encoder.conv_out.state_dict())\n",
    "\n",
    "#encoder norm distribution layer\n",
    "vae.encoder[7].load_state_dict(params.quant_conv.state_dict())\n",
    "\n",
    "#decoder norm distribution layer \n",
    "vae.decoder[0].load_state_dict(params.post_quant_conv.state_dict())\n",
    "\n",
    "#decoder in\n",
    "vae.decoder[1].load_state_dict(params.decoder.conv_in.state_dict())\n",
    "\n",
    "#decoder mid\n",
    "load_res(vae.decoder[2][0], params.decoder.mid_block.resnets[0])\n",
    "load_res(vae.decoder[2][2], params.decoder.mid_block.resnets[1])\n",
    "load_atten(vae.decoder[2][1], params.decoder.mid_block.attentions[0])\n",
    "\n",
    "#decoder up\n",
    "for i in range(4):\n",
    "    load_res(vae.decoder[i + 3][0], params.decoder.up_blocks[i].resnets[0])\n",
    "    load_res(vae.decoder[i + 3][1], params.decoder.up_blocks[i].resnets[1])\n",
    "    load_res(vae.decoder[i + 3][2], params.decoder.up_blocks[i].resnets[2])\n",
    "\n",
    "    if i != 3:\n",
    "        vae.decoder[i + 3][4].load_state_dict(\n",
    "            params.decoder.up_blocks[i].upsamplers[0].conv.state_dict())\n",
    "\n",
    "#decoder out\n",
    "vae.decoder[7][0].load_state_dict(params.decoder.conv_norm_out.state_dict())\n",
    "vae.decoder[7][2].load_state_dict(params.decoder.conv_out.state_dict())"
   ]
  },
  {
   "cell_type": "code",
   "execution_count": 9,
   "metadata": {},
   "outputs": [
    {
     "data": {
      "text/plain": [
       "True"
      ]
     },
     "execution_count": 9,
     "metadata": {},
     "output_type": "execute_result"
    }
   ],
   "source": [
    "# data = torch.randn(1, 3, 512, 512)\n",
    "\n",
    "# a = vae.encoder(data)\n",
    "# b = params.encode(data).latent_dist.parameters\n",
    "\n",
    "# torch.allclose(a, b, atol=1e-5)"
   ]
  },
  {
   "cell_type": "code",
   "execution_count": 10,
   "metadata": {},
   "outputs": [
    {
     "data": {
      "text/plain": [
       "True"
      ]
     },
     "execution_count": 10,
     "metadata": {},
     "output_type": "execute_result"
    }
   ],
   "source": [
    "# data = torch.randn(1, 4, 64, 64)\n",
    "\n",
    "# a = vae.decoder(data)\n",
    "# b = params.decode(data).sample\n",
    "\n",
    "# torch.allclose(a, b, atol=1e-4)"
   ]
  }
 ],
 "metadata": {
  "kernelspec": {
   "display_name": "base",
   "language": "python",
   "name": "python3"
  },
  "language_info": {
   "codemirror_mode": {
    "name": "ipython",
    "version": 3
   },
   "file_extension": ".py",
   "mimetype": "text/x-python",
   "name": "python",
   "nbconvert_exporter": "python",
   "pygments_lexer": "ipython3",
   "version": "3.11.5"
  }
 },
 "nbformat": 4,
 "nbformat_minor": 2
}
