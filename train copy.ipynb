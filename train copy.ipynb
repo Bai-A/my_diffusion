{
 "cells": [
  {
   "cell_type": "code",
   "execution_count": 1,
   "metadata": {},
   "outputs": [
    {
     "data": {
      "application/vnd.jupyter.widget-view+json": {
       "model_id": "347fef58f4924f50864a6a5aa8d4e6c5",
       "version_major": 2,
       "version_minor": 0
      },
      "text/plain": [
       "Loading pipeline components...:   0%|          | 0/6 [00:00<?, ?it/s]"
      ]
     },
     "metadata": {},
     "output_type": "display_data"
    },
    {
     "name": "stderr",
     "output_type": "stream",
     "text": [
      "You have disabled the safety checker for <class 'diffusers.pipelines.stable_diffusion.pipeline_stable_diffusion.StableDiffusionPipeline'> by passing `safety_checker=None`. Ensure that you abide to the conditions of the Stable Diffusion license and do not expose unfiltered results in services or applications open to the public. Both the diffusers team and Hugging Face strongly recommend to keep the safety filter enabled in all public facing circumstances, disabling it only for use-cases that involve analyzing network behavior or auditing its results. For more information, please have a look at https://github.com/huggingface/diffusers/pull/254 .\n"
     ]
    },
    {
     "data": {
      "text/plain": [
       "('cuda',\n",
       " PNDMScheduler {\n",
       "   \"_class_name\": \"PNDMScheduler\",\n",
       "   \"_diffusers_version\": \"0.27.0.dev0\",\n",
       "   \"beta_end\": 0.012,\n",
       "   \"beta_schedule\": \"scaled_linear\",\n",
       "   \"beta_start\": 0.00085,\n",
       "   \"clip_sample\": false,\n",
       "   \"num_train_timesteps\": 1000,\n",
       "   \"prediction_type\": \"epsilon\",\n",
       "   \"set_alpha_to_one\": false,\n",
       "   \"skip_prk_steps\": true,\n",
       "   \"steps_offset\": 1,\n",
       "   \"timestep_spacing\": \"leading\",\n",
       "   \"trained_betas\": null\n",
       " },\n",
       " CLIPTokenizer(name_or_path='C:\\Users\\37026\\.cache\\huggingface\\hub\\models--runwayml--stable-diffusion-v1-5\\snapshots\\1d0c4ebf6ff58a5caecab40fa1406526bca4b5b9\\tokenizer', vocab_size=49408, model_max_length=77, is_fast=False, padding_side='right', truncation_side='right', special_tokens={'bos_token': '<|startoftext|>', 'eos_token': '<|endoftext|>', 'unk_token': '<|endoftext|>', 'pad_token': '<|endoftext|>'}, clean_up_tokenization_spaces=True),  added_tokens_decoder={\n",
       " \t49406: AddedToken(\"<|startoftext|>\", rstrip=False, lstrip=False, single_word=False, normalized=True, special=True),\n",
       " \t49407: AddedToken(\"<|endoftext|>\", rstrip=False, lstrip=False, single_word=False, normalized=True, special=True),\n",
       " })"
      ]
     },
     "execution_count": 1,
     "metadata": {},
     "output_type": "execute_result"
    }
   ],
   "source": [
    "from diffusers import DiffusionPipeline\n",
    "import torch\n",
    "\n",
    "device = 'cuda' if torch.cuda.is_available() else 'cpu'\n",
    "\n",
    "pipeline = DiffusionPipeline.from_pretrained(\n",
    "    'runwayml/stable-diffusion-v1-5', safety_checker=None)\n",
    "\n",
    "scheduler = pipeline.scheduler\n",
    "tokenizer = pipeline.tokenizer\n",
    "\n",
    "del pipeline\n",
    "\n",
    "device, scheduler, tokenizer"
   ]
  },
  {
   "cell_type": "code",
   "execution_count": 2,
   "metadata": {},
   "outputs": [],
   "source": [
    "def read_text(file):\n",
    "    with open(file) as f:\n",
    "        text = []\n",
    "        lines = f.readlines()\n",
    "        for line in lines:\n",
    "            #remove \\n\n",
    "            line = line.strip()\n",
    "            text.append(line)\n",
    "    return text\n",
    "\n",
    "def read_images(dir):\n",
    "    import os\n",
    "    from PIL import Image\n",
    "    return [Image.open(os.path.join(dir, i)) for i in os.listdir(dir) if i.endswith('.png')]"
   ]
  },
  {
   "cell_type": "code",
   "execution_count": 3,
   "metadata": {},
   "outputs": [],
   "source": [
    "from datasets import Dataset\n",
    "def create_dataset(ori_dir,tune_dir,ori_txt,tune_txt):\n",
    "\n",
    "    data_ori_images = read_images(ori_dir)\n",
    "    data_tune_images = read_images(tune_dir)\n",
    "    text_ori = read_text(ori_txt)\n",
    "    text_tune = read_text(tune_txt)\n",
    "\n",
    "    # Create a Hugging Face dataset\n",
    "    dataset = Dataset.from_dict({'image': data_ori_images, 'text': text_ori,'image_tune':data_tune_images,'text_tune':text_tune  })\n",
    "\n",
    "    return dataset\n",
    "pika= create_dataset('./Snorlax_original_promt_1','./Snorlax','./prompt/snorlax.txt','./prompt/snorlax_tune.txt')\n"
   ]
  },
  {
   "cell_type": "code",
   "execution_count": 4,
   "metadata": {},
   "outputs": [
    {
     "data": {
      "application/vnd.jupyter.widget-view+json": {
       "model_id": "b26f0bef00c240b5a4daf747fbc5ddf8",
       "version_major": 2,
       "version_minor": 0
      },
      "text/plain": [
       "Map:   0%|          | 0/7 [00:00<?, ? examples/s]"
      ]
     },
     "metadata": {},
     "output_type": "display_data"
    }
   ],
   "source": [
    "from datasets import load_dataset\n",
    "import torchvision\n",
    "\n",
    "#图像增强模块\n",
    "compose = torchvision.transforms.Compose([\n",
    "    torchvision.transforms.Lambda(lambda img: img.convert('RGB')), \n",
    "    torchvision.transforms.Resize(\n",
    "        512, interpolation=torchvision.transforms.InterpolationMode.BILINEAR),\n",
    "    torchvision.transforms.CenterCrop(512),\n",
    "    #torchvision.transforms.RandomHorizontalFlip(),\n",
    "    torchvision.transforms.ToTensor(),\n",
    "    torchvision.transforms.Normalize([0.5], [0.5]),\n",
    "])\n",
    "\n",
    "\n",
    "    \n",
    "def f(data):\n",
    "    #image enhance\n",
    "    pixel_values = [compose(i) for i in data['image']]\n",
    "\n",
    "    #text encode\n",
    "    input_ids = tokenizer.batch_encode_plus(data['text'],\n",
    "                                            padding='max_length',\n",
    "                                            truncation=True,\n",
    "                                            max_length=77).input_ids\n",
    "    \n",
    "\n",
    "    pixel_values_tune = [compose(i) for i in data['image_tune']]\n",
    "\n",
    "    input_ids_tune = tokenizer.batch_encode_plus(data['text_tune'],\n",
    "                                            padding='max_length',\n",
    "                                            truncation=True,\n",
    "                                            max_length=77).input_ids\n",
    "\n",
    "    return {'pixel_values': pixel_values, 'input_ids': input_ids,'pixel_values_tune': pixel_values_tune, 'input_ids_tune': input_ids_tune}\n",
    "\n",
    "\n",
    "dataset = pika.map(f,\n",
    "                      batched=True,\n",
    "                      batch_size=100,\n",
    "                      num_proc=1,\n",
    "                      remove_columns=['image', 'text' , 'image_tune', 'text_tune'])\n",
    "\n",
    "dataset.set_format(type='torch')\n",
    "\n",
    "\n"
   ]
  },
  {
   "cell_type": "code",
   "execution_count": 5,
   "metadata": {},
   "outputs": [
    {
     "data": {
      "text/plain": [
       "(7,\n",
       " {'pixel_values': tensor([[[[ 0.0353,  0.0745,  0.0667,  ...,  0.8353,  0.7569,  0.6627],\n",
       "            [ 0.0667,  0.0667,  0.0824,  ...,  0.8588,  0.7804,  0.6392],\n",
       "            [ 0.0745,  0.0745,  0.0745,  ...,  0.8431,  0.7882,  0.6471],\n",
       "            ...,\n",
       "            [ 0.1373,  0.2000,  0.2314,  ...,  0.5686,  0.6627,  0.6706],\n",
       "            [ 0.2157,  0.2863,  0.3490,  ...,  0.5294,  0.5294,  0.5843],\n",
       "            [ 0.2627,  0.2471,  0.3882,  ...,  0.4118,  0.3647,  0.5059]],\n",
       "  \n",
       "           [[-0.0039,  0.0353,  0.0353,  ...,  0.5922,  0.5294,  0.4353],\n",
       "            [ 0.0196,  0.0275,  0.0588,  ...,  0.5765,  0.4980,  0.3490],\n",
       "            [ 0.0353,  0.0510,  0.0588,  ...,  0.5686,  0.5059,  0.3882],\n",
       "            ...,\n",
       "            [ 0.0902,  0.1137,  0.1451,  ...,  0.5294,  0.6314,  0.6235],\n",
       "            [ 0.1529,  0.2000,  0.2549,  ...,  0.4510,  0.4431,  0.5294],\n",
       "            [ 0.1843,  0.1765,  0.2941,  ...,  0.3333,  0.2706,  0.4510]],\n",
       "  \n",
       "           [[-0.1059, -0.0902, -0.0824,  ...,  0.1686,  0.1451,  0.0980],\n",
       "            [-0.0902, -0.0902, -0.0745,  ...,  0.1059,  0.0667, -0.0196],\n",
       "            [-0.0667, -0.0667, -0.0745,  ...,  0.1059,  0.0667, -0.0275],\n",
       "            ...,\n",
       "            [-0.0510, -0.0196, -0.0039,  ...,  0.3882,  0.4824,  0.4902],\n",
       "            [ 0.0118,  0.0510,  0.1059,  ...,  0.3176,  0.3098,  0.4039],\n",
       "            [ 0.0588,  0.0431,  0.1608,  ...,  0.1922,  0.1294,  0.3020]]],\n",
       "  \n",
       "  \n",
       "          [[[ 1.0000,  1.0000,  1.0000,  ...,  0.9765,  0.9765,  0.9765],\n",
       "            [ 1.0000,  1.0000,  1.0000,  ...,  0.9765,  0.9765,  0.9765],\n",
       "            [ 1.0000,  1.0000,  1.0000,  ...,  0.9765,  0.9765,  0.9765],\n",
       "            ...,\n",
       "            [ 1.0000,  1.0000,  1.0000,  ...,  1.0000,  1.0000,  1.0000],\n",
       "            [ 1.0000,  1.0000,  1.0000,  ...,  1.0000,  1.0000,  1.0000],\n",
       "            [ 1.0000,  1.0000,  1.0000,  ...,  1.0000,  1.0000,  1.0000]],\n",
       "  \n",
       "           [[ 0.3725,  0.3725,  0.3725,  ...,  0.3333,  0.3333,  0.3333],\n",
       "            [ 0.3725,  0.3725,  0.3725,  ...,  0.3333,  0.3333,  0.3333],\n",
       "            [ 0.3725,  0.3725,  0.3725,  ...,  0.3333,  0.3333,  0.3333],\n",
       "            ...,\n",
       "            [ 0.3804,  0.3804,  0.3804,  ...,  0.4118,  0.4118,  0.4118],\n",
       "            [ 0.3804,  0.3804,  0.3804,  ...,  0.4118,  0.4118,  0.4118],\n",
       "            [ 0.3804,  0.3804,  0.3804,  ...,  0.4118,  0.4118,  0.4118]],\n",
       "  \n",
       "           [[-0.9843, -0.9843, -0.9843,  ..., -1.0000, -1.0000, -1.0000],\n",
       "            [-0.9843, -0.9843, -0.9843,  ..., -1.0000, -1.0000, -1.0000],\n",
       "            [-0.9843, -0.9843, -0.9843,  ..., -1.0000, -1.0000, -1.0000],\n",
       "            ...,\n",
       "            [-0.9765, -0.9765, -0.9765,  ..., -1.0000, -1.0000, -1.0000],\n",
       "            [-0.9765, -0.9765, -0.9765,  ..., -1.0000, -1.0000, -1.0000],\n",
       "            [-0.9765, -0.9765, -0.9765,  ..., -1.0000, -1.0000, -1.0000]]]],\n",
       "         device='cuda:0'),\n",
       "  'input_ids': tensor([[49406,  4298, 49407, 49407, 49407, 49407, 49407, 49407, 49407, 49407,\n",
       "           49407, 49407, 49407, 49407, 49407, 49407, 49407, 49407, 49407, 49407,\n",
       "           49407, 49407, 49407, 49407, 49407, 49407, 49407, 49407, 49407, 49407,\n",
       "           49407, 49407, 49407, 49407, 49407, 49407, 49407, 49407, 49407, 49407,\n",
       "           49407, 49407, 49407, 49407, 49407, 49407, 49407, 49407, 49407, 49407,\n",
       "           49407, 49407, 49407, 49407, 49407, 49407, 49407, 49407, 49407, 49407,\n",
       "           49407, 49407, 49407, 49407, 49407, 49407, 49407, 49407, 49407, 49407,\n",
       "           49407, 49407, 49407, 49407, 49407, 49407, 49407],\n",
       "          [49406,   314,  1672,   321,   316, 49407, 49407, 49407, 49407, 49407,\n",
       "           49407, 49407, 49407, 49407, 49407, 49407, 49407, 49407, 49407, 49407,\n",
       "           49407, 49407, 49407, 49407, 49407, 49407, 49407, 49407, 49407, 49407,\n",
       "           49407, 49407, 49407, 49407, 49407, 49407, 49407, 49407, 49407, 49407,\n",
       "           49407, 49407, 49407, 49407, 49407, 49407, 49407, 49407, 49407, 49407,\n",
       "           49407, 49407, 49407, 49407, 49407, 49407, 49407, 49407, 49407, 49407,\n",
       "           49407, 49407, 49407, 49407, 49407, 49407, 49407, 49407, 49407, 49407,\n",
       "           49407, 49407, 49407, 49407, 49407, 49407, 49407]], device='cuda:0')})"
      ]
     },
     "execution_count": 5,
     "metadata": {},
     "output_type": "execute_result"
    }
   ],
   "source": [
    "#定义loader\n",
    "def collate_fn(data):\n",
    "    pixel_values = [i['pixel_values'] for i in data]\n",
    "    input_ids = [i['input_ids'] for i in data]\n",
    "    pixel_values_tune = [i['pixel_values_tune'] for i in data]\n",
    "    input_ids_tune = [i['input_ids_tune'] for i in data]\n",
    "\n",
    "    pixel_values = torch.stack(pixel_values+pixel_values_tune).to(device)\n",
    "    input_ids = torch.stack(input_ids+input_ids_tune).to(device)\n",
    "\n",
    "\n",
    "    return {'pixel_values': pixel_values, 'input_ids': input_ids}\n",
    "\n",
    "\n",
    "loader = torch.utils.data.DataLoader(dataset,\n",
    "                                     shuffle=True,\n",
    "                                     collate_fn=collate_fn,\n",
    "                                     batch_size=1)\n",
    "\n",
    "len(loader), next(iter(loader))"
   ]
  },
  {
   "cell_type": "code",
   "execution_count": 6,
   "metadata": {},
   "outputs": [
    {
     "data": {
      "text/plain": [
       "(AdamW (\n",
       " Parameter Group 0\n",
       "     amsgrad: False\n",
       "     betas: (0.9, 0.999)\n",
       "     capturable: False\n",
       "     differentiable: False\n",
       "     eps: 1e-08\n",
       "     foreach: None\n",
       "     fused: None\n",
       "     lr: 1e-05\n",
       "     maximize: False\n",
       "     weight_decay: 0.01\n",
       " ),\n",
       " MSELoss())"
      ]
     },
     "execution_count": 6,
     "metadata": {},
     "output_type": "execute_result"
    }
   ],
   "source": [
    "#加载模型\n",
    "%run encoder.ipynb\n",
    "%run vae.ipynb\n",
    "%run unet.ipynb\n",
    "\n",
    "#准备训练\n",
    "encoder.requires_grad_(False)\n",
    "vae.requires_grad_(False)\n",
    "unet.requires_grad_(True)\n",
    "\n",
    "encoder.eval()\n",
    "vae.eval()\n",
    "unet.train()\n",
    "\n",
    "encoder.to(device)\n",
    "vae.to(device)\n",
    "unet.to(device)\n",
    "\n",
    "optimizer = torch.optim.AdamW(unet.parameters(),\n",
    "                              lr=1e-5,\n",
    "                              betas=(0.9, 0.999),\n",
    "                              weight_decay=0.01,\n",
    "                              eps=1e-8)\n",
    "\n",
    "criterion = torch.nn.MSELoss()\n",
    "\n",
    "optimizer, criterion"
   ]
  },
  {
   "cell_type": "code",
   "execution_count": 7,
   "metadata": {},
   "outputs": [],
   "source": [
    "def get_loss(data):\n",
    "    with torch.no_grad():\n",
    "\n",
    "        #[1, 77] -> [1, 77, 768]\n",
    "\n",
    "        out_encoder = encoder(data['input_ids'])\n",
    "\n",
    "        #[1, 3, 512, 512] -> [1, 4, 64, 64]\n",
    "\n",
    "        out_vae = vae.encoder(data['pixel_values'])\n",
    "        out_vae = vae.sample(out_vae)\n",
    "\n",
    "        #0.18215 = vae.config.scaling_factor\n",
    "        out_vae = out_vae * 0.18215\n",
    "\n",
    "    #noise generator\n",
    "    noise = torch.randn_like(out_vae)\n",
    "\n",
    "    #add noise\n",
    "    #1000 = scheduler.num_train_timesteps\n",
    "    #1 = batch size\n",
    "    noise_step = torch.randint(0, 1000, (1, )).long().to(device)\n",
    "    out_vae_noise = scheduler.add_noise(out_vae, noise, noise_step)\n",
    "\n",
    "    #calc noise\n",
    "    out_unet = unet(out_vae=out_vae_noise,\n",
    "                    out_encoder=out_encoder,\n",
    "                    time=noise_step)\n",
    "    ori, tuned= out_unet.chunk(2)\n",
    "    ori_noise, tuned_noise = noise.chunk(2)\n",
    "\n",
    "    #mse loss\n",
    "    #[1, 4, 64, 64],[1, 4, 64, 64]\n",
    "    lambda_ = 1\n",
    "    return criterion(ori, ori_noise) + lambda_ * criterion(tuned, tuned_noise)\n",
    "\n"
   ]
  },
  {
   "cell_type": "code",
   "execution_count": 8,
   "metadata": {},
   "outputs": [
    {
     "name": "stderr",
     "output_type": "stream",
     "text": [
      "  0%|          | 0/100 [00:00<?, ?it/s]"
     ]
    },
    {
     "name": "stdout",
     "output_type": "stream",
     "text": [
      "0 0 tensor(0.0983, device='cuda:0', grad_fn=<DivBackward0>)\n",
      "backward\n",
      "0 1 tensor(0.0213, device='cuda:0', grad_fn=<DivBackward0>)\n",
      "backward\n",
      "0 2 tensor(0.1785, device='cuda:0', grad_fn=<DivBackward0>)\n",
      "backward\n",
      "0 3 tensor(0.0890, device='cuda:0', grad_fn=<DivBackward0>)\n",
      "backward\n",
      "0 4 tensor(0.0017, device='cuda:0', grad_fn=<DivBackward0>)\n",
      "backward\n",
      "0 5 tensor(0.1175, device='cuda:0', grad_fn=<DivBackward0>)\n",
      "backward\n",
      "0 6 tensor(0.0209, device='cuda:0', grad_fn=<DivBackward0>)\n",
      "backward\n"
     ]
    },
    {
     "name": "stderr",
     "output_type": "stream",
     "text": [
      "  1%|          | 1/100 [00:25<42:12, 25.58s/it]"
     ]
    },
    {
     "name": "stdout",
     "output_type": "stream",
     "text": [
      "0 0.5272152802208439\n",
      "1 0 tensor(0.0046, device='cuda:0', grad_fn=<DivBackward0>)\n",
      "backward\n",
      "1 1 tensor(0.0857, device='cuda:0', grad_fn=<DivBackward0>)\n",
      "backward\n",
      "1 2 tensor(0.0122, device='cuda:0', grad_fn=<DivBackward0>)\n",
      "backward\n",
      "1 3 tensor(0.1289, device='cuda:0', grad_fn=<DivBackward0>)\n",
      "backward\n",
      "1 4 tensor(0.2784, device='cuda:0', grad_fn=<DivBackward0>)\n",
      "backward\n",
      "1 5 tensor(0.0113, device='cuda:0', grad_fn=<DivBackward0>)\n",
      "backward\n",
      "1 6 tensor(0.0543, device='cuda:0', grad_fn=<DivBackward0>)\n",
      "backward\n"
     ]
    },
    {
     "name": "stderr",
     "output_type": "stream",
     "text": [
      "  2%|▏         | 2/100 [00:51<41:41, 25.53s/it]"
     ]
    },
    {
     "name": "stdout",
     "output_type": "stream",
     "text": [
      "2 0 tensor(0.0390, device='cuda:0', grad_fn=<DivBackward0>)\n",
      "backward\n",
      "2 1 tensor(0.0133, device='cuda:0', grad_fn=<DivBackward0>)\n",
      "backward\n",
      "2 2 tensor(0.0089, device='cuda:0', grad_fn=<DivBackward0>)\n",
      "backward\n",
      "2 3 tensor(0.1037, device='cuda:0', grad_fn=<DivBackward0>)\n",
      "backward\n",
      "2 4 tensor(0.0165, device='cuda:0', grad_fn=<DivBackward0>)\n",
      "backward\n",
      "2 5 tensor(0.0120, device='cuda:0', grad_fn=<DivBackward0>)\n",
      "backward\n",
      "2 6 tensor(0.0282, device='cuda:0', grad_fn=<DivBackward0>)\n",
      "backward\n"
     ]
    },
    {
     "name": "stderr",
     "output_type": "stream",
     "text": [
      "  3%|▎         | 3/100 [01:22<45:33, 28.18s/it]"
     ]
    },
    {
     "name": "stdout",
     "output_type": "stream",
     "text": [
      "3 0 tensor(0.0214, device='cuda:0', grad_fn=<DivBackward0>)\n",
      "backward\n",
      "3 1 tensor(0.1000, device='cuda:0', grad_fn=<DivBackward0>)\n",
      "backward\n",
      "3 2 tensor(0.0099, device='cuda:0', grad_fn=<DivBackward0>)\n",
      "backward\n",
      "3 3 tensor(0.0712, device='cuda:0', grad_fn=<DivBackward0>)\n",
      "backward\n",
      "3 4 tensor(0.0974, device='cuda:0', grad_fn=<DivBackward0>)\n",
      "backward\n",
      "3 5 tensor(0.0091, device='cuda:0', grad_fn=<DivBackward0>)\n",
      "backward\n",
      "3 6 tensor(0.0049, device='cuda:0', grad_fn=<DivBackward0>)\n",
      "backward\n"
     ]
    },
    {
     "name": "stderr",
     "output_type": "stream",
     "text": [
      "  4%|▍         | 4/100 [02:06<54:54, 34.32s/it]"
     ]
    },
    {
     "name": "stdout",
     "output_type": "stream",
     "text": [
      "4 0 tensor(0.0650, device='cuda:0', grad_fn=<DivBackward0>)\n",
      "backward\n",
      "4 1 tensor(0.0091, device='cuda:0', grad_fn=<DivBackward0>)\n",
      "backward\n",
      "4 2 tensor(0.2509, device='cuda:0', grad_fn=<DivBackward0>)\n",
      "backward\n",
      "4 3 tensor(0.0522, device='cuda:0', grad_fn=<DivBackward0>)\n",
      "backward\n",
      "4 4 tensor(0.0088, device='cuda:0', grad_fn=<DivBackward0>)\n",
      "backward\n",
      "4 5 tensor(0.2144, device='cuda:0', grad_fn=<DivBackward0>)\n",
      "backward\n",
      "4 6 tensor(0.0398, device='cuda:0', grad_fn=<DivBackward0>)\n",
      "backward\n"
     ]
    },
    {
     "name": "stderr",
     "output_type": "stream",
     "text": [
      "  5%|▌         | 5/100 [02:46<58:04, 36.67s/it]"
     ]
    },
    {
     "name": "stdout",
     "output_type": "stream",
     "text": [
      "5 0 tensor(0.1414, device='cuda:0', grad_fn=<DivBackward0>)\n",
      "backward\n",
      "5 1 tensor(0.0793, device='cuda:0', grad_fn=<DivBackward0>)\n",
      "backward\n",
      "5 2 tensor(0.0036, device='cuda:0', grad_fn=<DivBackward0>)\n",
      "backward\n",
      "5 3 tensor(0.0401, device='cuda:0', grad_fn=<DivBackward0>)\n",
      "backward\n",
      "5 4 tensor(0.0893, device='cuda:0', grad_fn=<DivBackward0>)\n",
      "backward\n",
      "5 5 tensor(0.0414, device='cuda:0', grad_fn=<DivBackward0>)\n",
      "backward\n",
      "5 6 tensor(0.0081, device='cuda:0', grad_fn=<DivBackward0>)\n",
      "backward\n"
     ]
    },
    {
     "name": "stderr",
     "output_type": "stream",
     "text": [
      "  6%|▌         | 6/100 [03:30<1:01:20, 39.15s/it]"
     ]
    },
    {
     "name": "stdout",
     "output_type": "stream",
     "text": [
      "6 0 tensor(0.0048, device='cuda:0', grad_fn=<DivBackward0>)\n",
      "backward\n",
      "6 1 tensor(0.0769, device='cuda:0', grad_fn=<DivBackward0>)\n",
      "backward\n",
      "6 2 tensor(0.0271, device='cuda:0', grad_fn=<DivBackward0>)\n",
      "backward\n",
      "6 3 tensor(0.0042, device='cuda:0', grad_fn=<DivBackward0>)\n",
      "backward\n",
      "6 4 tensor(0.0659, device='cuda:0', grad_fn=<DivBackward0>)\n",
      "backward\n",
      "6 5 tensor(0.0979, device='cuda:0', grad_fn=<DivBackward0>)\n",
      "backward\n",
      "6 6 tensor(0.0056, device='cuda:0', grad_fn=<DivBackward0>)\n",
      "backward\n"
     ]
    },
    {
     "name": "stderr",
     "output_type": "stream",
     "text": [
      "  7%|▋         | 7/100 [04:12<1:01:43, 39.82s/it]"
     ]
    },
    {
     "name": "stdout",
     "output_type": "stream",
     "text": [
      "7 0 tensor(0.1288, device='cuda:0', grad_fn=<DivBackward0>)\n",
      "backward\n",
      "7 1 tensor(0.0556, device='cuda:0', grad_fn=<DivBackward0>)\n",
      "backward\n",
      "7 2 tensor(0.0584, device='cuda:0', grad_fn=<DivBackward0>)\n",
      "backward\n",
      "7 3 tensor(0.0081, device='cuda:0', grad_fn=<DivBackward0>)\n",
      "backward\n",
      "7 4 tensor(0.0270, device='cuda:0', grad_fn=<DivBackward0>)\n",
      "backward\n",
      "7 5 tensor(0.0187, device='cuda:0', grad_fn=<DivBackward0>)\n",
      "backward\n",
      "7 6 tensor(0.0451, device='cuda:0', grad_fn=<DivBackward0>)\n",
      "backward\n"
     ]
    },
    {
     "name": "stderr",
     "output_type": "stream",
     "text": [
      "  8%|▊         | 8/100 [04:51<1:01:02, 39.81s/it]"
     ]
    },
    {
     "name": "stdout",
     "output_type": "stream",
     "text": [
      "8 0 tensor(0.0329, device='cuda:0', grad_fn=<DivBackward0>)\n",
      "backward\n",
      "8 1 tensor(0.1217, device='cuda:0', grad_fn=<DivBackward0>)\n",
      "backward\n",
      "8 2 tensor(0.0457, device='cuda:0', grad_fn=<DivBackward0>)\n",
      "backward\n",
      "8 3 tensor(0.0427, device='cuda:0', grad_fn=<DivBackward0>)\n",
      "backward\n",
      "8 4 tensor(0.0767, device='cuda:0', grad_fn=<DivBackward0>)\n",
      "backward\n",
      "8 5 tensor(0.1220, device='cuda:0', grad_fn=<DivBackward0>)\n",
      "backward\n",
      "8 6 tensor(0.0289, device='cuda:0', grad_fn=<DivBackward0>)\n",
      "backward\n"
     ]
    },
    {
     "name": "stderr",
     "output_type": "stream",
     "text": [
      "  9%|▉         | 9/100 [05:30<59:48, 39.43s/it]  "
     ]
    },
    {
     "name": "stdout",
     "output_type": "stream",
     "text": [
      "9 0 tensor(0.0394, device='cuda:0', grad_fn=<DivBackward0>)\n",
      "backward\n",
      "9 1 tensor(0.0401, device='cuda:0', grad_fn=<DivBackward0>)\n",
      "backward\n",
      "9 2 tensor(0.0252, device='cuda:0', grad_fn=<DivBackward0>)\n",
      "backward\n",
      "9 3 tensor(0.2244, device='cuda:0', grad_fn=<DivBackward0>)\n",
      "backward\n",
      "9 4 tensor(0.0127, device='cuda:0', grad_fn=<DivBackward0>)\n",
      "backward\n",
      "9 5 tensor(0.0239, device='cuda:0', grad_fn=<DivBackward0>)\n",
      "backward\n",
      "9 6 tensor(0.0947, device='cuda:0', grad_fn=<DivBackward0>)\n",
      "backward\n"
     ]
    },
    {
     "name": "stderr",
     "output_type": "stream",
     "text": [
      " 10%|█         | 10/100 [06:10<59:24, 39.61s/it]"
     ]
    },
    {
     "name": "stdout",
     "output_type": "stream",
     "text": [
      "10 0 tensor(0.0152, device='cuda:0', grad_fn=<DivBackward0>)\n",
      "backward\n",
      "10 1 tensor(0.0197, device='cuda:0', grad_fn=<DivBackward0>)\n",
      "backward\n",
      "10 2 tensor(0.0247, device='cuda:0', grad_fn=<DivBackward0>)\n",
      "backward\n",
      "10 3 tensor(0.0977, device='cuda:0', grad_fn=<DivBackward0>)\n",
      "backward\n",
      "10 4 tensor(0.0265, device='cuda:0', grad_fn=<DivBackward0>)\n",
      "backward\n",
      "10 5 tensor(0.0123, device='cuda:0', grad_fn=<DivBackward0>)\n",
      "backward\n",
      "10 6 tensor(0.1108, device='cuda:0', grad_fn=<DivBackward0>)\n",
      "backward\n"
     ]
    },
    {
     "name": "stderr",
     "output_type": "stream",
     "text": [
      " 11%|█         | 11/100 [06:59<1:03:11, 42.60s/it]"
     ]
    },
    {
     "name": "stdout",
     "output_type": "stream",
     "text": [
      "10 4.01626304583624\n",
      "11 0 tensor(0.1273, device='cuda:0', grad_fn=<DivBackward0>)\n",
      "backward\n",
      "11 1 tensor(0.0953, device='cuda:0', grad_fn=<DivBackward0>)\n",
      "backward\n",
      "11 2 tensor(0.0118, device='cuda:0', grad_fn=<DivBackward0>)\n",
      "backward\n",
      "11 3 tensor(0.0066, device='cuda:0', grad_fn=<DivBackward0>)\n",
      "backward\n",
      "11 4 tensor(0.0261, device='cuda:0', grad_fn=<DivBackward0>)\n",
      "backward\n",
      "11 5 tensor(0.0101, device='cuda:0', grad_fn=<DivBackward0>)\n",
      "backward\n",
      "11 6 tensor(0.1082, device='cuda:0', grad_fn=<DivBackward0>)\n"
     ]
    },
    {
     "name": "stderr",
     "output_type": "stream",
     "text": [
      " 12%|█▏        | 12/100 [07:46<1:04:09, 43.75s/it]"
     ]
    },
    {
     "name": "stdout",
     "output_type": "stream",
     "text": [
      "backward\n",
      "12 0 tensor(0.0235, device='cuda:0', grad_fn=<DivBackward0>)\n",
      "backward\n",
      "12 1 tensor(0.3696, device='cuda:0', grad_fn=<DivBackward0>)\n",
      "backward\n",
      "12 2 tensor(0.2208, device='cuda:0', grad_fn=<DivBackward0>)\n",
      "backward\n",
      "12 3 tensor(0.0025, device='cuda:0', grad_fn=<DivBackward0>)\n",
      "backward\n",
      "12 4 tensor(0.0837, device='cuda:0', grad_fn=<DivBackward0>)\n",
      "backward\n",
      "12 5 tensor(0.1692, device='cuda:0', grad_fn=<DivBackward0>)\n",
      "backward\n",
      "12 6 tensor(0.0300, device='cuda:0', grad_fn=<DivBackward0>)\n",
      "backward\n"
     ]
    },
    {
     "name": "stderr",
     "output_type": "stream",
     "text": [
      " 13%|█▎        | 13/100 [08:36<1:06:09, 45.63s/it]"
     ]
    },
    {
     "name": "stdout",
     "output_type": "stream",
     "text": [
      "13 0 tensor(0.0592, device='cuda:0', grad_fn=<DivBackward0>)\n",
      "backward\n",
      "13 1 tensor(0.0111, device='cuda:0', grad_fn=<DivBackward0>)\n",
      "backward\n",
      "13 2 tensor(0.0576, device='cuda:0', grad_fn=<DivBackward0>)\n",
      "backward\n",
      "13 3 tensor(0.0286, device='cuda:0', grad_fn=<DivBackward0>)\n",
      "backward\n",
      "13 4 tensor(0.2056, device='cuda:0', grad_fn=<DivBackward0>)\n",
      "backward\n",
      "13 5 tensor(0.0344, device='cuda:0', grad_fn=<DivBackward0>)\n",
      "backward\n",
      "13 6 tensor(0.0034, device='cuda:0', grad_fn=<DivBackward0>)\n",
      "backward\n"
     ]
    },
    {
     "name": "stderr",
     "output_type": "stream",
     "text": [
      " 14%|█▍        | 14/100 [09:23<1:06:15, 46.23s/it]"
     ]
    },
    {
     "name": "stdout",
     "output_type": "stream",
     "text": [
      "14 0 tensor(0.0068, device='cuda:0', grad_fn=<DivBackward0>)\n",
      "backward\n",
      "14 1 tensor(0.0025, device='cuda:0', grad_fn=<DivBackward0>)\n",
      "backward\n",
      "14 2 tensor(0.1085, device='cuda:0', grad_fn=<DivBackward0>)\n",
      "backward\n",
      "14 3 tensor(0.0726, device='cuda:0', grad_fn=<DivBackward0>)\n",
      "backward\n",
      "14 4 tensor(0.0061, device='cuda:0', grad_fn=<DivBackward0>)\n",
      "backward\n",
      "14 5 tensor(0.0344, device='cuda:0', grad_fn=<DivBackward0>)\n",
      "backward\n",
      "14 6 tensor(0.0613, device='cuda:0', grad_fn=<DivBackward0>)\n",
      "backward\n"
     ]
    },
    {
     "name": "stderr",
     "output_type": "stream",
     "text": [
      " 15%|█▌        | 15/100 [10:11<1:06:08, 46.68s/it]"
     ]
    },
    {
     "name": "stdout",
     "output_type": "stream",
     "text": [
      "15 0 tensor(0.0018, device='cuda:0', grad_fn=<DivBackward0>)\n",
      "backward\n",
      "15 1 tensor(0.0745, device='cuda:0', grad_fn=<DivBackward0>)\n",
      "backward\n",
      "15 2 tensor(0.2556, device='cuda:0', grad_fn=<DivBackward0>)\n",
      "backward\n",
      "15 3 tensor(0.1490, device='cuda:0', grad_fn=<DivBackward0>)\n",
      "backward\n",
      "15 4 tensor(0.2287, device='cuda:0', grad_fn=<DivBackward0>)\n",
      "backward\n",
      "15 5 tensor(0.1304, device='cuda:0', grad_fn=<DivBackward0>)\n",
      "backward\n",
      "15 6 tensor(0.1699, device='cuda:0', grad_fn=<DivBackward0>)\n",
      "backward\n"
     ]
    },
    {
     "name": "stderr",
     "output_type": "stream",
     "text": [
      " 16%|█▌        | 16/100 [10:59<1:06:01, 47.17s/it]"
     ]
    },
    {
     "name": "stdout",
     "output_type": "stream",
     "text": [
      "16 0 tensor(0.0051, device='cuda:0', grad_fn=<DivBackward0>)\n",
      "backward\n",
      "16 1 tensor(0.0793, device='cuda:0', grad_fn=<DivBackward0>)\n",
      "backward\n",
      "16 2 tensor(0.0394, device='cuda:0', grad_fn=<DivBackward0>)\n",
      "backward\n",
      "16 3 tensor(0.0212, device='cuda:0', grad_fn=<DivBackward0>)\n",
      "backward\n",
      "16 4 tensor(0.1342, device='cuda:0', grad_fn=<DivBackward0>)\n",
      "backward\n",
      "16 5 tensor(0.0031, device='cuda:0', grad_fn=<DivBackward0>)\n",
      "backward\n",
      "16 6 tensor(0.0398, device='cuda:0', grad_fn=<DivBackward0>)\n",
      "backward\n"
     ]
    },
    {
     "name": "stderr",
     "output_type": "stream",
     "text": [
      " 17%|█▋        | 17/100 [11:47<1:05:25, 47.29s/it]"
     ]
    },
    {
     "name": "stdout",
     "output_type": "stream",
     "text": [
      "17 0 tensor(0.0265, device='cuda:0', grad_fn=<DivBackward0>)\n",
      "backward\n",
      "17 1 tensor(0.0362, device='cuda:0', grad_fn=<DivBackward0>)\n",
      "backward\n",
      "17 2 tensor(0.0246, device='cuda:0', grad_fn=<DivBackward0>)\n",
      "backward\n",
      "17 3 tensor(0.0686, device='cuda:0', grad_fn=<DivBackward0>)\n",
      "backward\n",
      "17 4 tensor(0.0430, device='cuda:0', grad_fn=<DivBackward0>)\n",
      "backward\n",
      "17 5 tensor(0.0057, device='cuda:0', grad_fn=<DivBackward0>)\n",
      "backward\n",
      "17 6 tensor(0.0185, device='cuda:0', grad_fn=<DivBackward0>)\n",
      "backward\n"
     ]
    },
    {
     "name": "stderr",
     "output_type": "stream",
     "text": [
      " 18%|█▊        | 18/100 [12:36<1:05:12, 47.71s/it]"
     ]
    },
    {
     "name": "stdout",
     "output_type": "stream",
     "text": [
      "18 0 tensor(0.0401, device='cuda:0', grad_fn=<DivBackward0>)\n",
      "backward\n",
      "18 1 tensor(0.0750, device='cuda:0', grad_fn=<DivBackward0>)\n",
      "backward\n",
      "18 2 tensor(0.0385, device='cuda:0', grad_fn=<DivBackward0>)\n",
      "backward\n",
      "18 3 tensor(0.0496, device='cuda:0', grad_fn=<DivBackward0>)\n",
      "backward\n",
      "18 4 tensor(0.0076, device='cuda:0', grad_fn=<DivBackward0>)\n",
      "backward\n",
      "18 5 tensor(0.0019, device='cuda:0', grad_fn=<DivBackward0>)\n",
      "backward\n",
      "18 6 tensor(0.1197, device='cuda:0', grad_fn=<DivBackward0>)\n",
      "backward\n"
     ]
    },
    {
     "name": "stderr",
     "output_type": "stream",
     "text": [
      " 19%|█▉        | 19/100 [13:24<1:04:48, 48.01s/it]"
     ]
    },
    {
     "name": "stdout",
     "output_type": "stream",
     "text": [
      "19 0 tensor(0.2500, device='cuda:0', grad_fn=<DivBackward0>)\n",
      "backward\n",
      "19 1 tensor(0.0082, device='cuda:0', grad_fn=<DivBackward0>)\n",
      "backward\n",
      "19 2 tensor(0.0964, device='cuda:0', grad_fn=<DivBackward0>)\n",
      "backward\n",
      "19 3 tensor(0.0167, device='cuda:0', grad_fn=<DivBackward0>)\n",
      "backward\n",
      "19 4 tensor(0.1584, device='cuda:0', grad_fn=<DivBackward0>)\n",
      "backward\n",
      "19 5 tensor(0.0414, device='cuda:0', grad_fn=<DivBackward0>)\n",
      "backward\n",
      "19 6 tensor(0.0609, device='cuda:0', grad_fn=<DivBackward0>)\n",
      "backward\n"
     ]
    },
    {
     "name": "stderr",
     "output_type": "stream",
     "text": [
      " 20%|██        | 20/100 [14:12<1:03:40, 47.76s/it]"
     ]
    },
    {
     "name": "stdout",
     "output_type": "stream",
     "text": [
      "20 0 tensor(0.0015, device='cuda:0', grad_fn=<DivBackward0>)\n",
      "backward\n",
      "20 1 tensor(0.0132, device='cuda:0', grad_fn=<DivBackward0>)\n",
      "backward\n",
      "20 2 tensor(0.0094, device='cuda:0', grad_fn=<DivBackward0>)\n",
      "backward\n",
      "20 3 tensor(0.1408, device='cuda:0', grad_fn=<DivBackward0>)\n",
      "backward\n",
      "20 4 tensor(0.0797, device='cuda:0', grad_fn=<DivBackward0>)\n",
      "backward\n",
      "20 5 tensor(0.0128, device='cuda:0', grad_fn=<DivBackward0>)\n",
      "backward\n",
      "20 6 tensor(0.0237, device='cuda:0', grad_fn=<DivBackward0>)\n",
      "backward\n"
     ]
    },
    {
     "name": "stderr",
     "output_type": "stream",
     "text": [
      " 21%|██        | 21/100 [15:00<1:03:05, 47.92s/it]"
     ]
    },
    {
     "name": "stdout",
     "output_type": "stream",
     "text": [
      "20 4.777294280473143\n",
      "21 0 tensor(0.1221, device='cuda:0', grad_fn=<DivBackward0>)\n",
      "backward\n",
      "21 1 tensor(0.0822, device='cuda:0', grad_fn=<DivBackward0>)\n",
      "backward\n",
      "21 2 tensor(0.0931, device='cuda:0', grad_fn=<DivBackward0>)\n",
      "backward\n",
      "21 3 tensor(0.1755, device='cuda:0', grad_fn=<DivBackward0>)\n",
      "backward\n",
      "21 4 tensor(0.0258, device='cuda:0', grad_fn=<DivBackward0>)\n",
      "backward\n",
      "21 5 tensor(0.0064, device='cuda:0', grad_fn=<DivBackward0>)\n",
      "backward\n",
      "21 6 tensor(0.1693, device='cuda:0', grad_fn=<DivBackward0>)\n",
      "backward\n"
     ]
    },
    {
     "name": "stderr",
     "output_type": "stream",
     "text": [
      " 22%|██▏       | 22/100 [15:48<1:02:26, 48.03s/it]"
     ]
    },
    {
     "name": "stdout",
     "output_type": "stream",
     "text": [
      "22 0 tensor(0.4007, device='cuda:0', grad_fn=<DivBackward0>)\n",
      "backward\n",
      "22 1 tensor(0.0072, device='cuda:0', grad_fn=<DivBackward0>)\n",
      "backward\n",
      "22 2 tensor(0.1992, device='cuda:0', grad_fn=<DivBackward0>)\n",
      "backward\n",
      "22 3 tensor(0.0957, device='cuda:0', grad_fn=<DivBackward0>)\n",
      "backward\n",
      "22 4 tensor(0.0225, device='cuda:0', grad_fn=<DivBackward0>)\n",
      "backward\n",
      "22 5 tensor(0.0842, device='cuda:0', grad_fn=<DivBackward0>)\n",
      "backward\n",
      "22 6 tensor(0.0866, device='cuda:0', grad_fn=<DivBackward0>)\n",
      "backward\n"
     ]
    },
    {
     "name": "stderr",
     "output_type": "stream",
     "text": [
      " 23%|██▎       | 23/100 [16:36<1:01:40, 48.06s/it]"
     ]
    },
    {
     "name": "stdout",
     "output_type": "stream",
     "text": [
      "23 0 tensor(0.0064, device='cuda:0', grad_fn=<DivBackward0>)\n",
      "backward\n",
      "23 1 tensor(0.0638, device='cuda:0', grad_fn=<DivBackward0>)\n",
      "backward\n",
      "23 2 tensor(0.1030, device='cuda:0', grad_fn=<DivBackward0>)\n",
      "backward\n",
      "23 3 tensor(0.0105, device='cuda:0', grad_fn=<DivBackward0>)\n",
      "backward\n",
      "23 4 tensor(0.0283, device='cuda:0', grad_fn=<DivBackward0>)\n",
      "backward\n",
      "23 5 tensor(0.0569, device='cuda:0', grad_fn=<DivBackward0>)\n",
      "backward\n",
      "23 6 tensor(0.0170, device='cuda:0', grad_fn=<DivBackward0>)\n",
      "backward\n"
     ]
    },
    {
     "name": "stderr",
     "output_type": "stream",
     "text": [
      " 24%|██▍       | 24/100 [17:25<1:00:58, 48.14s/it]"
     ]
    },
    {
     "name": "stdout",
     "output_type": "stream",
     "text": [
      "24 0 tensor(0.3631, device='cuda:0', grad_fn=<DivBackward0>)\n",
      "backward\n",
      "24 1 tensor(0.1361, device='cuda:0', grad_fn=<DivBackward0>)\n",
      "backward\n",
      "24 2 tensor(0.0250, device='cuda:0', grad_fn=<DivBackward0>)\n",
      "backward\n",
      "24 3 tensor(0.1410, device='cuda:0', grad_fn=<DivBackward0>)\n",
      "backward\n",
      "24 4 tensor(0.1069, device='cuda:0', grad_fn=<DivBackward0>)\n",
      "backward\n",
      "24 5 tensor(0.0191, device='cuda:0', grad_fn=<DivBackward0>)\n",
      "backward\n",
      "24 6 tensor(0.0569, device='cuda:0', grad_fn=<DivBackward0>)\n",
      "backward\n"
     ]
    },
    {
     "name": "stderr",
     "output_type": "stream",
     "text": [
      " 25%|██▌       | 25/100 [18:12<59:59, 47.99s/it]  "
     ]
    },
    {
     "name": "stdout",
     "output_type": "stream",
     "text": [
      "25 0 tensor(0.0162, device='cuda:0', grad_fn=<DivBackward0>)\n",
      "backward\n",
      "25 1 tensor(0.0613, device='cuda:0', grad_fn=<DivBackward0>)\n",
      "backward\n",
      "25 2 tensor(0.0615, device='cuda:0', grad_fn=<DivBackward0>)\n",
      "backward\n",
      "25 3 tensor(0.0296, device='cuda:0', grad_fn=<DivBackward0>)\n",
      "backward\n",
      "25 4 tensor(0.0584, device='cuda:0', grad_fn=<DivBackward0>)\n",
      "backward\n",
      "25 5 tensor(0.0633, device='cuda:0', grad_fn=<DivBackward0>)\n",
      "backward\n",
      "25 6 tensor(0.0345, device='cuda:0', grad_fn=<DivBackward0>)\n",
      "backward\n"
     ]
    },
    {
     "name": "stderr",
     "output_type": "stream",
     "text": [
      " 26%|██▌       | 26/100 [19:00<59:07, 47.93s/it]"
     ]
    },
    {
     "name": "stdout",
     "output_type": "stream",
     "text": [
      "26 0 tensor(0.0173, device='cuda:0', grad_fn=<DivBackward0>)\n",
      "backward\n",
      "26 1 tensor(0.1158, device='cuda:0', grad_fn=<DivBackward0>)\n",
      "backward\n",
      "26 2 tensor(0.1124, device='cuda:0', grad_fn=<DivBackward0>)\n",
      "backward\n",
      "26 3 tensor(0.0034, device='cuda:0', grad_fn=<DivBackward0>)\n",
      "backward\n",
      "26 4 tensor(0.1473, device='cuda:0', grad_fn=<DivBackward0>)\n",
      "backward\n",
      "26 5 tensor(0.0399, device='cuda:0', grad_fn=<DivBackward0>)\n",
      "backward\n",
      "26 6 tensor(0.0159, device='cuda:0', grad_fn=<DivBackward0>)\n",
      "backward\n"
     ]
    },
    {
     "name": "stderr",
     "output_type": "stream",
     "text": [
      " 27%|██▋       | 27/100 [19:48<58:17, 47.90s/it]"
     ]
    },
    {
     "name": "stdout",
     "output_type": "stream",
     "text": [
      "27 0 tensor(0.0041, device='cuda:0', grad_fn=<DivBackward0>)\n",
      "backward\n",
      "27 1 tensor(0.0021, device='cuda:0', grad_fn=<DivBackward0>)\n",
      "backward\n",
      "27 2 tensor(0.0727, device='cuda:0', grad_fn=<DivBackward0>)\n",
      "backward\n",
      "27 3 tensor(0.0149, device='cuda:0', grad_fn=<DivBackward0>)\n",
      "backward\n",
      "27 4 tensor(0.0291, device='cuda:0', grad_fn=<DivBackward0>)\n",
      "backward\n",
      "27 5 tensor(0.0029, device='cuda:0', grad_fn=<DivBackward0>)\n",
      "backward\n",
      "27 6 tensor(0.0152, device='cuda:0', grad_fn=<DivBackward0>)\n",
      "backward\n"
     ]
    },
    {
     "name": "stderr",
     "output_type": "stream",
     "text": [
      " 28%|██▊       | 28/100 [20:36<57:23, 47.83s/it]"
     ]
    },
    {
     "name": "stdout",
     "output_type": "stream",
     "text": [
      "28 0 tensor(0.0224, device='cuda:0', grad_fn=<DivBackward0>)\n",
      "backward\n",
      "28 1 tensor(0.0607, device='cuda:0', grad_fn=<DivBackward0>)\n",
      "backward\n",
      "28 2 tensor(0.0228, device='cuda:0', grad_fn=<DivBackward0>)\n",
      "backward\n",
      "28 3 tensor(0.1153, device='cuda:0', grad_fn=<DivBackward0>)\n",
      "backward\n",
      "28 4 tensor(0.0464, device='cuda:0', grad_fn=<DivBackward0>)\n",
      "backward\n",
      "28 5 tensor(0.0119, device='cuda:0', grad_fn=<DivBackward0>)\n",
      "backward\n",
      "28 6 tensor(0.0525, device='cuda:0', grad_fn=<DivBackward0>)\n",
      "backward\n"
     ]
    },
    {
     "name": "stderr",
     "output_type": "stream",
     "text": [
      " 29%|██▉       | 29/100 [21:23<56:37, 47.86s/it]"
     ]
    },
    {
     "name": "stdout",
     "output_type": "stream",
     "text": [
      "29 0 tensor(0.0148, device='cuda:0', grad_fn=<DivBackward0>)\n",
      "backward\n",
      "29 1 tensor(0.0038, device='cuda:0', grad_fn=<DivBackward0>)\n",
      "backward\n",
      "29 2 tensor(0.1833, device='cuda:0', grad_fn=<DivBackward0>)\n",
      "backward\n",
      "29 3 tensor(0.1096, device='cuda:0', grad_fn=<DivBackward0>)\n",
      "backward\n",
      "29 4 tensor(0.0054, device='cuda:0', grad_fn=<DivBackward0>)\n",
      "backward\n",
      "29 5 tensor(0.0060, device='cuda:0', grad_fn=<DivBackward0>)\n",
      "backward\n",
      "29 6 tensor(0.0068, device='cuda:0', grad_fn=<DivBackward0>)\n",
      "backward\n"
     ]
    },
    {
     "name": "stderr",
     "output_type": "stream",
     "text": [
      " 30%|███       | 30/100 [22:11<55:45, 47.79s/it]"
     ]
    },
    {
     "name": "stdout",
     "output_type": "stream",
     "text": [
      "30 0 tensor(0.0241, device='cuda:0', grad_fn=<DivBackward0>)\n",
      "backward\n",
      "30 1 tensor(0.1125, device='cuda:0', grad_fn=<DivBackward0>)\n",
      "backward\n",
      "30 2 tensor(0.0763, device='cuda:0', grad_fn=<DivBackward0>)\n",
      "backward\n",
      "30 3 tensor(0.0249, device='cuda:0', grad_fn=<DivBackward0>)\n",
      "backward\n",
      "30 4 tensor(0.0378, device='cuda:0', grad_fn=<DivBackward0>)\n",
      "backward\n",
      "30 5 tensor(0.0176, device='cuda:0', grad_fn=<DivBackward0>)\n",
      "backward\n",
      "30 6 tensor(0.1613, device='cuda:0', grad_fn=<DivBackward0>)\n",
      "backward\n"
     ]
    },
    {
     "name": "stderr",
     "output_type": "stream",
     "text": [
      " 31%|███       | 31/100 [22:59<55:00, 47.83s/it]"
     ]
    },
    {
     "name": "stdout",
     "output_type": "stream",
     "text": [
      "30 4.738639886025339\n",
      "31 0 tensor(0.0856, device='cuda:0', grad_fn=<DivBackward0>)\n",
      "backward\n",
      "31 1 tensor(0.1047, device='cuda:0', grad_fn=<DivBackward0>)\n",
      "backward\n",
      "31 2 tensor(0.0207, device='cuda:0', grad_fn=<DivBackward0>)\n",
      "backward\n",
      "31 3 tensor(0.0040, device='cuda:0', grad_fn=<DivBackward0>)\n",
      "backward\n",
      "31 4 tensor(0.0617, device='cuda:0', grad_fn=<DivBackward0>)\n",
      "backward\n",
      "31 5 tensor(0.0216, device='cuda:0', grad_fn=<DivBackward0>)\n",
      "backward\n",
      "31 6 tensor(0.0024, device='cuda:0', grad_fn=<DivBackward0>)\n",
      "backward\n"
     ]
    },
    {
     "name": "stderr",
     "output_type": "stream",
     "text": [
      " 32%|███▏      | 32/100 [23:46<53:46, 47.45s/it]"
     ]
    },
    {
     "name": "stdout",
     "output_type": "stream",
     "text": [
      "32 0 tensor(0.0456, device='cuda:0', grad_fn=<DivBackward0>)\n",
      "backward\n",
      "32 1 tensor(0.1848, device='cuda:0', grad_fn=<DivBackward0>)\n",
      "backward\n",
      "32 2 tensor(0.0189, device='cuda:0', grad_fn=<DivBackward0>)\n",
      "backward\n",
      "32 3 tensor(0.0495, device='cuda:0', grad_fn=<DivBackward0>)\n",
      "backward\n",
      "32 4 tensor(0.1806, device='cuda:0', grad_fn=<DivBackward0>)\n",
      "backward\n",
      "32 5 tensor(0.0017, device='cuda:0', grad_fn=<DivBackward0>)\n",
      "backward\n",
      "32 6 tensor(0.1351, device='cuda:0', grad_fn=<DivBackward0>)\n",
      "backward\n"
     ]
    },
    {
     "name": "stderr",
     "output_type": "stream",
     "text": [
      " 33%|███▎      | 33/100 [24:30<51:55, 46.50s/it]"
     ]
    },
    {
     "name": "stdout",
     "output_type": "stream",
     "text": [
      "33 0 tensor(0.0454, device='cuda:0', grad_fn=<DivBackward0>)\n",
      "backward\n",
      "33 1 tensor(0.1283, device='cuda:0', grad_fn=<DivBackward0>)\n",
      "backward\n",
      "33 2 tensor(0.0144, device='cuda:0', grad_fn=<DivBackward0>)\n",
      "backward\n",
      "33 3 tensor(0.0982, device='cuda:0', grad_fn=<DivBackward0>)\n",
      "backward\n",
      "33 4 tensor(0.2201, device='cuda:0', grad_fn=<DivBackward0>)\n",
      "backward\n",
      "33 5 tensor(0.0778, device='cuda:0', grad_fn=<DivBackward0>)\n",
      "backward\n",
      "33 6 tensor(0.0787, device='cuda:0', grad_fn=<DivBackward0>)\n",
      "backward\n"
     ]
    },
    {
     "name": "stderr",
     "output_type": "stream",
     "text": [
      " 34%|███▍      | 34/100 [25:12<49:45, 45.23s/it]"
     ]
    },
    {
     "name": "stdout",
     "output_type": "stream",
     "text": [
      "34 0 tensor(0.0028, device='cuda:0', grad_fn=<DivBackward0>)\n",
      "backward\n",
      "34 1 tensor(0.0034, device='cuda:0', grad_fn=<DivBackward0>)\n",
      "backward\n",
      "34 2 tensor(0.0627, device='cuda:0', grad_fn=<DivBackward0>)\n",
      "backward\n",
      "34 3 tensor(0.0360, device='cuda:0', grad_fn=<DivBackward0>)\n",
      "backward\n",
      "34 4 tensor(0.0337, device='cuda:0', grad_fn=<DivBackward0>)\n",
      "backward\n",
      "34 5 tensor(0.0524, device='cuda:0', grad_fn=<DivBackward0>)\n",
      "backward\n",
      "34 6 tensor(0.1498, device='cuda:0', grad_fn=<DivBackward0>)\n",
      "backward\n"
     ]
    },
    {
     "name": "stderr",
     "output_type": "stream",
     "text": [
      " 35%|███▌      | 35/100 [25:51<47:01, 43.41s/it]"
     ]
    },
    {
     "name": "stdout",
     "output_type": "stream",
     "text": [
      "35 0 tensor(0.0073, device='cuda:0', grad_fn=<DivBackward0>)\n",
      "backward\n",
      "35 1 tensor(0.0029, device='cuda:0', grad_fn=<DivBackward0>)\n",
      "backward\n",
      "35 2 tensor(0.0261, device='cuda:0', grad_fn=<DivBackward0>)\n",
      "backward\n",
      "35 3 tensor(0.0802, device='cuda:0', grad_fn=<DivBackward0>)\n",
      "backward\n",
      "35 4 tensor(0.0049, device='cuda:0', grad_fn=<DivBackward0>)\n",
      "backward\n",
      "35 5 tensor(0.1877, device='cuda:0', grad_fn=<DivBackward0>)\n",
      "backward\n",
      "35 6 tensor(0.0172, device='cuda:0', grad_fn=<DivBackward0>)\n",
      "backward\n"
     ]
    },
    {
     "name": "stderr",
     "output_type": "stream",
     "text": [
      " 36%|███▌      | 36/100 [26:30<44:52, 42.07s/it]"
     ]
    },
    {
     "name": "stdout",
     "output_type": "stream",
     "text": [
      "36 0 tensor(0.0439, device='cuda:0', grad_fn=<DivBackward0>)\n",
      "backward\n",
      "36 1 tensor(0.0527, device='cuda:0', grad_fn=<DivBackward0>)\n",
      "backward\n",
      "36 2 tensor(0.0106, device='cuda:0', grad_fn=<DivBackward0>)\n",
      "backward\n",
      "36 3 tensor(0.0381, device='cuda:0', grad_fn=<DivBackward0>)\n",
      "backward\n",
      "36 4 tensor(0.0200, device='cuda:0', grad_fn=<DivBackward0>)\n",
      "backward\n",
      "36 5 tensor(0.0301, device='cuda:0', grad_fn=<DivBackward0>)\n",
      "backward\n",
      "36 6 tensor(0.1027, device='cuda:0', grad_fn=<DivBackward0>)\n",
      "backward\n"
     ]
    },
    {
     "name": "stderr",
     "output_type": "stream",
     "text": [
      " 37%|███▋      | 37/100 [27:09<43:03, 41.01s/it]"
     ]
    },
    {
     "name": "stdout",
     "output_type": "stream",
     "text": [
      "37 0 tensor(0.0646, device='cuda:0', grad_fn=<DivBackward0>)\n",
      "backward\n",
      "37 1 tensor(0.0027, device='cuda:0', grad_fn=<DivBackward0>)\n",
      "backward\n",
      "37 2 tensor(0.1151, device='cuda:0', grad_fn=<DivBackward0>)\n",
      "backward\n",
      "37 3 tensor(0.0215, device='cuda:0', grad_fn=<DivBackward0>)\n",
      "backward\n",
      "37 4 tensor(0.0019, device='cuda:0', grad_fn=<DivBackward0>)\n",
      "backward\n",
      "37 5 tensor(0.0236, device='cuda:0', grad_fn=<DivBackward0>)\n",
      "backward\n",
      "37 6 tensor(0.2705, device='cuda:0', grad_fn=<DivBackward0>)\n",
      "backward\n"
     ]
    },
    {
     "name": "stderr",
     "output_type": "stream",
     "text": [
      " 38%|███▊      | 38/100 [27:48<41:42, 40.37s/it]"
     ]
    },
    {
     "name": "stdout",
     "output_type": "stream",
     "text": [
      "38 0 tensor(0.0124, device='cuda:0', grad_fn=<DivBackward0>)\n",
      "backward\n",
      "38 1 tensor(0.0267, device='cuda:0', grad_fn=<DivBackward0>)\n",
      "backward\n",
      "38 2 tensor(0.1857, device='cuda:0', grad_fn=<DivBackward0>)\n",
      "backward\n",
      "38 3 tensor(0.0223, device='cuda:0', grad_fn=<DivBackward0>)\n",
      "backward\n",
      "38 4 tensor(0.0048, device='cuda:0', grad_fn=<DivBackward0>)\n",
      "backward\n",
      "38 5 tensor(0.0080, device='cuda:0', grad_fn=<DivBackward0>)\n",
      "backward\n",
      "38 6 tensor(0.0676, device='cuda:0', grad_fn=<DivBackward0>)\n",
      "backward\n"
     ]
    },
    {
     "name": "stderr",
     "output_type": "stream",
     "text": [
      " 39%|███▉      | 39/100 [28:26<40:34, 39.91s/it]"
     ]
    },
    {
     "name": "stdout",
     "output_type": "stream",
     "text": [
      "39 0 tensor(0.0274, device='cuda:0', grad_fn=<DivBackward0>)\n",
      "backward\n",
      "39 1 tensor(0.0417, device='cuda:0', grad_fn=<DivBackward0>)\n",
      "backward\n",
      "39 2 tensor(0.0175, device='cuda:0', grad_fn=<DivBackward0>)\n",
      "backward\n",
      "39 3 tensor(0.0025, device='cuda:0', grad_fn=<DivBackward0>)\n",
      "backward\n",
      "39 4 tensor(0.0726, device='cuda:0', grad_fn=<DivBackward0>)\n",
      "backward\n",
      "39 5 tensor(0.0049, device='cuda:0', grad_fn=<DivBackward0>)\n",
      "backward\n",
      "39 6 tensor(0.0803, device='cuda:0', grad_fn=<DivBackward0>)\n",
      "backward\n"
     ]
    },
    {
     "name": "stderr",
     "output_type": "stream",
     "text": [
      " 40%|████      | 40/100 [29:05<39:33, 39.57s/it]"
     ]
    },
    {
     "name": "stdout",
     "output_type": "stream",
     "text": [
      "40 0 tensor(0.0853, device='cuda:0', grad_fn=<DivBackward0>)\n",
      "backward\n",
      "40 1 tensor(0.0431, device='cuda:0', grad_fn=<DivBackward0>)\n",
      "backward\n",
      "40 2 tensor(0.0307, device='cuda:0', grad_fn=<DivBackward0>)\n",
      "backward\n",
      "40 3 tensor(0.1104, device='cuda:0', grad_fn=<DivBackward0>)\n",
      "backward\n",
      "40 4 tensor(0.0069, device='cuda:0', grad_fn=<DivBackward0>)\n",
      "backward\n",
      "40 5 tensor(0.3354, device='cuda:0', grad_fn=<DivBackward0>)\n",
      "backward\n",
      "40 6 tensor(0.0821, device='cuda:0', grad_fn=<DivBackward0>)\n",
      "backward\n"
     ]
    },
    {
     "name": "stderr",
     "output_type": "stream",
     "text": [
      " 41%|████      | 41/100 [29:44<38:42, 39.36s/it]"
     ]
    },
    {
     "name": "stdout",
     "output_type": "stream",
     "text": [
      "40 4.313611451536417\n",
      "41 0 tensor(0.0052, device='cuda:0', grad_fn=<DivBackward0>)\n",
      "backward\n",
      "41 1 tensor(0.0025, device='cuda:0', grad_fn=<DivBackward0>)\n",
      "backward\n",
      "41 2 tensor(0.0070, device='cuda:0', grad_fn=<DivBackward0>)\n",
      "backward\n",
      "41 3 tensor(0.0299, device='cuda:0', grad_fn=<DivBackward0>)\n",
      "backward\n",
      "41 4 tensor(0.0226, device='cuda:0', grad_fn=<DivBackward0>)\n",
      "backward\n",
      "41 5 tensor(0.0201, device='cuda:0', grad_fn=<DivBackward0>)\n",
      "backward\n",
      "41 6 tensor(0.0022, device='cuda:0', grad_fn=<DivBackward0>)\n",
      "backward\n"
     ]
    },
    {
     "name": "stderr",
     "output_type": "stream",
     "text": [
      " 42%|████▏     | 42/100 [30:23<37:55, 39.23s/it]"
     ]
    },
    {
     "name": "stdout",
     "output_type": "stream",
     "text": [
      "42 0 tensor(0.0479, device='cuda:0', grad_fn=<DivBackward0>)\n",
      "backward\n",
      "42 1 tensor(0.0019, device='cuda:0', grad_fn=<DivBackward0>)\n",
      "backward\n",
      "42 2 tensor(0.1695, device='cuda:0', grad_fn=<DivBackward0>)\n",
      "backward\n",
      "42 3 tensor(0.0838, device='cuda:0', grad_fn=<DivBackward0>)\n",
      "backward\n",
      "42 4 tensor(0.0017, device='cuda:0', grad_fn=<DivBackward0>)\n",
      "backward\n",
      "42 5 tensor(0.0277, device='cuda:0', grad_fn=<DivBackward0>)\n",
      "backward\n",
      "42 6 tensor(0.0536, device='cuda:0', grad_fn=<DivBackward0>)\n",
      "backward\n"
     ]
    },
    {
     "name": "stderr",
     "output_type": "stream",
     "text": [
      " 43%|████▎     | 43/100 [31:02<37:11, 39.15s/it]"
     ]
    },
    {
     "name": "stdout",
     "output_type": "stream",
     "text": [
      "43 0 tensor(0.2715, device='cuda:0', grad_fn=<DivBackward0>)\n",
      "backward\n",
      "43 1 tensor(0.1081, device='cuda:0', grad_fn=<DivBackward0>)\n",
      "backward\n",
      "43 2 tensor(0.0800, device='cuda:0', grad_fn=<DivBackward0>)\n",
      "backward\n",
      "43 3 tensor(0.0618, device='cuda:0', grad_fn=<DivBackward0>)\n",
      "backward\n",
      "43 4 tensor(0.3673, device='cuda:0', grad_fn=<DivBackward0>)\n",
      "backward\n",
      "43 5 tensor(0.0142, device='cuda:0', grad_fn=<DivBackward0>)\n",
      "backward\n",
      "43 6 tensor(0.0106, device='cuda:0', grad_fn=<DivBackward0>)\n",
      "backward\n"
     ]
    },
    {
     "name": "stderr",
     "output_type": "stream",
     "text": [
      " 44%|████▍     | 44/100 [31:41<36:29, 39.10s/it]"
     ]
    },
    {
     "name": "stdout",
     "output_type": "stream",
     "text": [
      "44 0 tensor(0.0502, device='cuda:0', grad_fn=<DivBackward0>)\n",
      "backward\n",
      "44 1 tensor(0.0540, device='cuda:0', grad_fn=<DivBackward0>)\n",
      "backward\n",
      "44 2 tensor(0.0117, device='cuda:0', grad_fn=<DivBackward0>)\n",
      "backward\n",
      "44 3 tensor(0.0713, device='cuda:0', grad_fn=<DivBackward0>)\n",
      "backward\n",
      "44 4 tensor(0.1240, device='cuda:0', grad_fn=<DivBackward0>)\n",
      "backward\n",
      "44 5 tensor(0.0411, device='cuda:0', grad_fn=<DivBackward0>)\n",
      "backward\n",
      "44 6 tensor(0.0717, device='cuda:0', grad_fn=<DivBackward0>)\n",
      "backward\n"
     ]
    },
    {
     "name": "stderr",
     "output_type": "stream",
     "text": [
      " 45%|████▌     | 45/100 [32:20<35:47, 39.05s/it]"
     ]
    },
    {
     "name": "stdout",
     "output_type": "stream",
     "text": [
      "45 0 tensor(0.0549, device='cuda:0', grad_fn=<DivBackward0>)\n",
      "backward\n",
      "45 1 tensor(0.0133, device='cuda:0', grad_fn=<DivBackward0>)\n",
      "backward\n",
      "45 2 tensor(0.0021, device='cuda:0', grad_fn=<DivBackward0>)\n",
      "backward\n",
      "45 3 tensor(0.0290, device='cuda:0', grad_fn=<DivBackward0>)\n",
      "backward\n",
      "45 4 tensor(0.0214, device='cuda:0', grad_fn=<DivBackward0>)\n",
      "backward\n",
      "45 5 tensor(0.0948, device='cuda:0', grad_fn=<DivBackward0>)\n",
      "backward\n",
      "45 6 tensor(0.0544, device='cuda:0', grad_fn=<DivBackward0>)\n",
      "backward\n"
     ]
    },
    {
     "name": "stderr",
     "output_type": "stream",
     "text": [
      " 46%|████▌     | 46/100 [32:59<35:05, 38.98s/it]"
     ]
    },
    {
     "name": "stdout",
     "output_type": "stream",
     "text": [
      "46 0 tensor(0.1933, device='cuda:0', grad_fn=<DivBackward0>)\n",
      "backward\n",
      "46 1 tensor(0.0254, device='cuda:0', grad_fn=<DivBackward0>)\n",
      "backward\n",
      "46 2 tensor(0.0026, device='cuda:0', grad_fn=<DivBackward0>)\n",
      "backward\n",
      "46 3 tensor(0.0415, device='cuda:0', grad_fn=<DivBackward0>)\n",
      "backward\n",
      "46 4 tensor(0.0564, device='cuda:0', grad_fn=<DivBackward0>)\n",
      "backward\n",
      "46 5 tensor(0.0595, device='cuda:0', grad_fn=<DivBackward0>)\n",
      "backward\n",
      "46 6 tensor(0.0239, device='cuda:0', grad_fn=<DivBackward0>)\n",
      "backward\n"
     ]
    },
    {
     "name": "stderr",
     "output_type": "stream",
     "text": [
      " 47%|████▋     | 47/100 [33:37<34:21, 38.90s/it]"
     ]
    },
    {
     "name": "stdout",
     "output_type": "stream",
     "text": [
      "47 0 tensor(0.0491, device='cuda:0', grad_fn=<DivBackward0>)\n",
      "backward\n",
      "47 1 tensor(0.0036, device='cuda:0', grad_fn=<DivBackward0>)\n",
      "backward\n",
      "47 2 tensor(0.0150, device='cuda:0', grad_fn=<DivBackward0>)\n",
      "backward\n",
      "47 3 tensor(0.0382, device='cuda:0', grad_fn=<DivBackward0>)\n",
      "backward\n",
      "47 4 tensor(0.0089, device='cuda:0', grad_fn=<DivBackward0>)\n",
      "backward\n",
      "47 5 tensor(0.0088, device='cuda:0', grad_fn=<DivBackward0>)\n",
      "backward\n",
      "47 6 tensor(0.0321, device='cuda:0', grad_fn=<DivBackward0>)\n",
      "backward\n"
     ]
    },
    {
     "name": "stderr",
     "output_type": "stream",
     "text": [
      " 48%|████▊     | 48/100 [34:16<33:43, 38.91s/it]"
     ]
    },
    {
     "name": "stdout",
     "output_type": "stream",
     "text": [
      "48 0 tensor(0.0070, device='cuda:0', grad_fn=<DivBackward0>)\n",
      "backward\n",
      "48 1 tensor(0.0136, device='cuda:0', grad_fn=<DivBackward0>)\n",
      "backward\n",
      "48 2 tensor(0.1665, device='cuda:0', grad_fn=<DivBackward0>)\n",
      "backward\n",
      "48 3 tensor(0.0986, device='cuda:0', grad_fn=<DivBackward0>)\n",
      "backward\n",
      "48 4 tensor(0.0027, device='cuda:0', grad_fn=<DivBackward0>)\n",
      "backward\n",
      "48 5 tensor(0.1744, device='cuda:0', grad_fn=<DivBackward0>)\n",
      "backward\n",
      "48 6 tensor(0.0061, device='cuda:0', grad_fn=<DivBackward0>)\n",
      "backward\n"
     ]
    },
    {
     "name": "stderr",
     "output_type": "stream",
     "text": [
      " 49%|████▉     | 49/100 [34:55<33:06, 38.94s/it]"
     ]
    },
    {
     "name": "stdout",
     "output_type": "stream",
     "text": [
      "49 0 tensor(0.0016, device='cuda:0', grad_fn=<DivBackward0>)\n",
      "backward\n",
      "49 1 tensor(0.0170, device='cuda:0', grad_fn=<DivBackward0>)\n",
      "backward\n",
      "49 2 tensor(0.2968, device='cuda:0', grad_fn=<DivBackward0>)\n",
      "backward\n",
      "49 3 tensor(0.0020, device='cuda:0', grad_fn=<DivBackward0>)\n",
      "backward\n",
      "49 4 tensor(0.0460, device='cuda:0', grad_fn=<DivBackward0>)\n",
      "backward\n",
      "49 5 tensor(0.0702, device='cuda:0', grad_fn=<DivBackward0>)\n",
      "backward\n",
      "49 6 tensor(0.0270, device='cuda:0', grad_fn=<DivBackward0>)\n",
      "backward\n"
     ]
    },
    {
     "name": "stderr",
     "output_type": "stream",
     "text": [
      " 50%|█████     | 50/100 [35:34<32:28, 38.97s/it]"
     ]
    },
    {
     "name": "stdout",
     "output_type": "stream",
     "text": [
      "50 0 tensor(0.0024, device='cuda:0', grad_fn=<DivBackward0>)\n",
      "backward\n",
      "50 1 tensor(0.0846, device='cuda:0', grad_fn=<DivBackward0>)\n",
      "backward\n",
      "50 2 tensor(0.0888, device='cuda:0', grad_fn=<DivBackward0>)\n",
      "backward\n",
      "50 3 tensor(0.0623, device='cuda:0', grad_fn=<DivBackward0>)\n",
      "backward\n",
      "50 4 tensor(0.0175, device='cuda:0', grad_fn=<DivBackward0>)\n",
      "backward\n",
      "50 5 tensor(0.0066, device='cuda:0', grad_fn=<DivBackward0>)\n",
      "backward\n",
      "50 6 tensor(0.1638, device='cuda:0', grad_fn=<DivBackward0>)\n",
      "backward\n"
     ]
    },
    {
     "name": "stderr",
     "output_type": "stream",
     "text": [
      " 51%|█████     | 51/100 [36:13<31:47, 38.94s/it]"
     ]
    },
    {
     "name": "stdout",
     "output_type": "stream",
     "text": [
      "50 3.997039268258959\n",
      "51 0 tensor(0.0589, device='cuda:0', grad_fn=<DivBackward0>)\n",
      "backward\n",
      "51 1 tensor(0.0946, device='cuda:0', grad_fn=<DivBackward0>)\n",
      "backward\n",
      "51 2 tensor(0.0267, device='cuda:0', grad_fn=<DivBackward0>)\n",
      "backward\n",
      "51 3 tensor(0.0020, device='cuda:0', grad_fn=<DivBackward0>)\n",
      "backward\n",
      "51 4 tensor(0.0035, device='cuda:0', grad_fn=<DivBackward0>)\n",
      "backward\n",
      "51 5 tensor(0.0889, device='cuda:0', grad_fn=<DivBackward0>)\n",
      "backward\n",
      "51 6 tensor(0.0221, device='cuda:0', grad_fn=<DivBackward0>)\n",
      "backward\n"
     ]
    },
    {
     "name": "stderr",
     "output_type": "stream",
     "text": [
      " 52%|█████▏    | 52/100 [36:52<31:07, 38.91s/it]"
     ]
    },
    {
     "name": "stdout",
     "output_type": "stream",
     "text": [
      "52 0 tensor(0.0364, device='cuda:0', grad_fn=<DivBackward0>)\n",
      "backward\n",
      "52 1 tensor(0.0437, device='cuda:0', grad_fn=<DivBackward0>)\n",
      "backward\n",
      "52 2 tensor(0.0393, device='cuda:0', grad_fn=<DivBackward0>)\n",
      "backward\n",
      "52 3 tensor(0.0020, device='cuda:0', grad_fn=<DivBackward0>)\n",
      "backward\n",
      "52 4 tensor(0.0217, device='cuda:0', grad_fn=<DivBackward0>)\n",
      "backward\n",
      "52 5 tensor(0.0025, device='cuda:0', grad_fn=<DivBackward0>)\n",
      "backward\n",
      "52 6 tensor(0.0331, device='cuda:0', grad_fn=<DivBackward0>)\n",
      "backward\n"
     ]
    },
    {
     "name": "stderr",
     "output_type": "stream",
     "text": [
      " 53%|█████▎    | 53/100 [37:31<30:32, 38.99s/it]"
     ]
    },
    {
     "name": "stdout",
     "output_type": "stream",
     "text": [
      "53 0 tensor(0.0078, device='cuda:0', grad_fn=<DivBackward0>)\n",
      "backward\n",
      "53 1 tensor(0.0599, device='cuda:0', grad_fn=<DivBackward0>)\n",
      "backward\n",
      "53 2 tensor(0.0079, device='cuda:0', grad_fn=<DivBackward0>)\n",
      "backward\n",
      "53 3 tensor(0.0954, device='cuda:0', grad_fn=<DivBackward0>)\n",
      "backward\n",
      "53 4 tensor(0.0037, device='cuda:0', grad_fn=<DivBackward0>)\n",
      "backward\n",
      "53 5 tensor(0.0422, device='cuda:0', grad_fn=<DivBackward0>)\n",
      "backward\n",
      "53 6 tensor(0.0030, device='cuda:0', grad_fn=<DivBackward0>)\n",
      "backward\n"
     ]
    },
    {
     "name": "stderr",
     "output_type": "stream",
     "text": [
      " 54%|█████▍    | 54/100 [38:10<29:49, 38.91s/it]"
     ]
    },
    {
     "name": "stdout",
     "output_type": "stream",
     "text": [
      "54 0 tensor(0.0029, device='cuda:0', grad_fn=<DivBackward0>)\n",
      "backward\n",
      "54 1 tensor(0.0608, device='cuda:0', grad_fn=<DivBackward0>)\n",
      "backward\n",
      "54 2 tensor(0.0016, device='cuda:0', grad_fn=<DivBackward0>)\n",
      "backward\n",
      "54 3 tensor(0.0911, device='cuda:0', grad_fn=<DivBackward0>)\n",
      "backward\n",
      "54 4 tensor(0.0123, device='cuda:0', grad_fn=<DivBackward0>)\n",
      "backward\n",
      "54 5 tensor(0.0993, device='cuda:0', grad_fn=<DivBackward0>)\n",
      "backward\n",
      "54 6 tensor(0.0248, device='cuda:0', grad_fn=<DivBackward0>)\n",
      "backward\n"
     ]
    },
    {
     "name": "stderr",
     "output_type": "stream",
     "text": [
      " 55%|█████▌    | 55/100 [38:49<29:11, 38.91s/it]"
     ]
    },
    {
     "name": "stdout",
     "output_type": "stream",
     "text": [
      "55 0 tensor(0.0096, device='cuda:0', grad_fn=<DivBackward0>)\n",
      "backward\n",
      "55 1 tensor(0.0154, device='cuda:0', grad_fn=<DivBackward0>)\n",
      "backward\n",
      "55 2 tensor(0.0265, device='cuda:0', grad_fn=<DivBackward0>)\n",
      "backward\n",
      "55 3 tensor(0.1434, device='cuda:0', grad_fn=<DivBackward0>)\n",
      "backward\n",
      "55 4 tensor(0.0067, device='cuda:0', grad_fn=<DivBackward0>)\n",
      "backward\n",
      "55 5 tensor(0.0153, device='cuda:0', grad_fn=<DivBackward0>)\n",
      "backward\n",
      "55 6 tensor(0.0244, device='cuda:0', grad_fn=<DivBackward0>)\n",
      "backward\n"
     ]
    },
    {
     "name": "stderr",
     "output_type": "stream",
     "text": [
      " 56%|█████▌    | 56/100 [39:31<29:07, 39.71s/it]"
     ]
    },
    {
     "name": "stdout",
     "output_type": "stream",
     "text": [
      "56 0 tensor(0.3395, device='cuda:0', grad_fn=<DivBackward0>)\n",
      "backward\n",
      "56 1 tensor(0.0050, device='cuda:0', grad_fn=<DivBackward0>)\n",
      "backward\n",
      "56 2 tensor(0.0103, device='cuda:0', grad_fn=<DivBackward0>)\n",
      "backward\n",
      "56 3 tensor(0.0027, device='cuda:0', grad_fn=<DivBackward0>)\n",
      "backward\n",
      "56 4 tensor(0.2290, device='cuda:0', grad_fn=<DivBackward0>)\n",
      "backward\n",
      "56 5 tensor(0.0160, device='cuda:0', grad_fn=<DivBackward0>)\n",
      "backward\n",
      "56 6 tensor(0.0613, device='cuda:0', grad_fn=<DivBackward0>)\n",
      "backward\n"
     ]
    },
    {
     "name": "stderr",
     "output_type": "stream",
     "text": [
      " 57%|█████▋    | 57/100 [40:09<28:12, 39.37s/it]"
     ]
    },
    {
     "name": "stdout",
     "output_type": "stream",
     "text": [
      "57 0 tensor(0.1849, device='cuda:0', grad_fn=<DivBackward0>)\n",
      "backward\n",
      "57 1 tensor(0.0084, device='cuda:0', grad_fn=<DivBackward0>)\n",
      "backward\n",
      "57 2 tensor(0.0796, device='cuda:0', grad_fn=<DivBackward0>)\n",
      "backward\n",
      "57 3 tensor(0.0716, device='cuda:0', grad_fn=<DivBackward0>)\n",
      "backward\n",
      "57 4 tensor(0.0419, device='cuda:0', grad_fn=<DivBackward0>)\n",
      "backward\n",
      "57 5 tensor(0.0672, device='cuda:0', grad_fn=<DivBackward0>)\n",
      "backward\n",
      "57 6 tensor(0.0476, device='cuda:0', grad_fn=<DivBackward0>)\n",
      "backward\n"
     ]
    },
    {
     "name": "stderr",
     "output_type": "stream",
     "text": [
      " 58%|█████▊    | 58/100 [40:48<27:27, 39.23s/it]"
     ]
    },
    {
     "name": "stdout",
     "output_type": "stream",
     "text": [
      "58 0 tensor(0.0635, device='cuda:0', grad_fn=<DivBackward0>)\n",
      "backward\n",
      "58 1 tensor(0.1154, device='cuda:0', grad_fn=<DivBackward0>)\n",
      "backward\n",
      "58 2 tensor(0.0680, device='cuda:0', grad_fn=<DivBackward0>)\n",
      "backward\n",
      "58 3 tensor(0.0440, device='cuda:0', grad_fn=<DivBackward0>)\n",
      "backward\n",
      "58 4 tensor(0.0101, device='cuda:0', grad_fn=<DivBackward0>)\n",
      "backward\n",
      "58 5 tensor(0.0103, device='cuda:0', grad_fn=<DivBackward0>)\n",
      "backward\n",
      "58 6 tensor(0.0022, device='cuda:0', grad_fn=<DivBackward0>)\n",
      "backward\n"
     ]
    },
    {
     "name": "stderr",
     "output_type": "stream",
     "text": [
      " 59%|█████▉    | 59/100 [41:27<26:41, 39.06s/it]"
     ]
    },
    {
     "name": "stdout",
     "output_type": "stream",
     "text": [
      "59 0 tensor(0.0043, device='cuda:0', grad_fn=<DivBackward0>)\n",
      "backward\n",
      "59 1 tensor(0.2180, device='cuda:0', grad_fn=<DivBackward0>)\n",
      "backward\n",
      "59 2 tensor(0.1013, device='cuda:0', grad_fn=<DivBackward0>)\n",
      "backward\n",
      "59 3 tensor(0.0035, device='cuda:0', grad_fn=<DivBackward0>)\n",
      "backward\n",
      "59 4 tensor(0.1826, device='cuda:0', grad_fn=<DivBackward0>)\n",
      "backward\n",
      "59 5 tensor(0.0027, device='cuda:0', grad_fn=<DivBackward0>)\n",
      "backward\n",
      "59 6 tensor(0.0173, device='cuda:0', grad_fn=<DivBackward0>)\n",
      "backward\n"
     ]
    },
    {
     "name": "stderr",
     "output_type": "stream",
     "text": [
      " 60%|██████    | 60/100 [42:06<26:00, 39.02s/it]"
     ]
    },
    {
     "name": "stdout",
     "output_type": "stream",
     "text": [
      "60 0 tensor(0.1437, device='cuda:0', grad_fn=<DivBackward0>)\n",
      "backward\n",
      "60 1 tensor(0.0343, device='cuda:0', grad_fn=<DivBackward0>)\n",
      "backward\n",
      "60 2 tensor(0.1921, device='cuda:0', grad_fn=<DivBackward0>)\n",
      "backward\n",
      "60 3 tensor(0.0076, device='cuda:0', grad_fn=<DivBackward0>)\n",
      "backward\n",
      "60 4 tensor(0.0457, device='cuda:0', grad_fn=<DivBackward0>)\n",
      "backward\n",
      "60 5 tensor(0.0680, device='cuda:0', grad_fn=<DivBackward0>)\n",
      "backward\n",
      "60 6 tensor(0.0115, device='cuda:0', grad_fn=<DivBackward0>)\n",
      "backward\n"
     ]
    },
    {
     "name": "stderr",
     "output_type": "stream",
     "text": [
      " 61%|██████    | 61/100 [42:45<25:23, 39.07s/it]"
     ]
    },
    {
     "name": "stdout",
     "output_type": "stream",
     "text": [
      "60 3.7403508389834315\n",
      "61 0 tensor(0.0029, device='cuda:0', grad_fn=<DivBackward0>)\n",
      "backward\n",
      "61 1 tensor(0.0889, device='cuda:0', grad_fn=<DivBackward0>)\n",
      "backward\n",
      "61 2 tensor(0.0675, device='cuda:0', grad_fn=<DivBackward0>)\n",
      "backward\n",
      "61 3 tensor(0.0074, device='cuda:0', grad_fn=<DivBackward0>)\n",
      "backward\n",
      "61 4 tensor(0.0207, device='cuda:0', grad_fn=<DivBackward0>)\n",
      "backward\n",
      "61 5 tensor(0.0201, device='cuda:0', grad_fn=<DivBackward0>)\n",
      "backward\n",
      "61 6 tensor(0.0026, device='cuda:0', grad_fn=<DivBackward0>)\n",
      "backward\n"
     ]
    },
    {
     "name": "stderr",
     "output_type": "stream",
     "text": [
      " 62%|██████▏   | 62/100 [43:24<24:40, 38.96s/it]"
     ]
    },
    {
     "name": "stdout",
     "output_type": "stream",
     "text": [
      "62 0 tensor(0.0546, device='cuda:0', grad_fn=<DivBackward0>)\n",
      "backward\n",
      "62 1 tensor(0.0733, device='cuda:0', grad_fn=<DivBackward0>)\n",
      "backward\n",
      "62 2 tensor(0.0182, device='cuda:0', grad_fn=<DivBackward0>)\n",
      "backward\n",
      "62 3 tensor(0.0098, device='cuda:0', grad_fn=<DivBackward0>)\n",
      "backward\n",
      "62 4 tensor(0.0105, device='cuda:0', grad_fn=<DivBackward0>)\n",
      "backward\n",
      "62 5 tensor(0.0652, device='cuda:0', grad_fn=<DivBackward0>)\n",
      "backward\n",
      "62 6 tensor(0.0801, device='cuda:0', grad_fn=<DivBackward0>)\n",
      "backward\n"
     ]
    },
    {
     "name": "stderr",
     "output_type": "stream",
     "text": [
      " 63%|██████▎   | 63/100 [44:03<24:02, 38.98s/it]"
     ]
    },
    {
     "name": "stdout",
     "output_type": "stream",
     "text": [
      "63 0 tensor(0.0309, device='cuda:0', grad_fn=<DivBackward0>)\n",
      "backward\n",
      "63 1 tensor(0.0021, device='cuda:0', grad_fn=<DivBackward0>)\n",
      "backward\n",
      "63 2 tensor(0.0105, device='cuda:0', grad_fn=<DivBackward0>)\n",
      "backward\n",
      "63 3 tensor(0.0298, device='cuda:0', grad_fn=<DivBackward0>)\n",
      "backward\n",
      "63 4 tensor(0.2174, device='cuda:0', grad_fn=<DivBackward0>)\n",
      "backward\n",
      "63 5 tensor(0.0080, device='cuda:0', grad_fn=<DivBackward0>)\n",
      "backward\n",
      "63 6 tensor(0.0128, device='cuda:0', grad_fn=<DivBackward0>)\n",
      "backward\n"
     ]
    },
    {
     "name": "stderr",
     "output_type": "stream",
     "text": [
      " 64%|██████▍   | 64/100 [44:43<23:34, 39.29s/it]"
     ]
    },
    {
     "name": "stdout",
     "output_type": "stream",
     "text": [
      "64 0 tensor(0.0527, device='cuda:0', grad_fn=<DivBackward0>)\n",
      "backward\n",
      "64 1 tensor(0.0026, device='cuda:0', grad_fn=<DivBackward0>)\n",
      "backward\n",
      "64 2 tensor(0.0038, device='cuda:0', grad_fn=<DivBackward0>)\n",
      "backward\n",
      "64 3 tensor(0.0705, device='cuda:0', grad_fn=<DivBackward0>)\n",
      "backward\n",
      "64 4 tensor(0.0081, device='cuda:0', grad_fn=<DivBackward0>)\n",
      "backward\n",
      "64 5 tensor(0.1237, device='cuda:0', grad_fn=<DivBackward0>)\n",
      "backward\n",
      "64 6 tensor(0.0730, device='cuda:0', grad_fn=<DivBackward0>)\n",
      "backward\n"
     ]
    },
    {
     "name": "stderr",
     "output_type": "stream",
     "text": [
      " 65%|██████▌   | 65/100 [45:25<23:33, 40.39s/it]"
     ]
    },
    {
     "name": "stdout",
     "output_type": "stream",
     "text": [
      "65 0 tensor(0.0585, device='cuda:0', grad_fn=<DivBackward0>)\n",
      "backward\n",
      "65 1 tensor(0.0707, device='cuda:0', grad_fn=<DivBackward0>)\n",
      "backward\n",
      "65 2 tensor(0.0040, device='cuda:0', grad_fn=<DivBackward0>)\n",
      "backward\n",
      "65 3 tensor(0.0053, device='cuda:0', grad_fn=<DivBackward0>)\n",
      "backward\n",
      "65 4 tensor(0.2120, device='cuda:0', grad_fn=<DivBackward0>)\n",
      "backward\n",
      "65 5 tensor(0.1013, device='cuda:0', grad_fn=<DivBackward0>)\n",
      "backward\n",
      "65 6 tensor(0.0922, device='cuda:0', grad_fn=<DivBackward0>)\n",
      "backward\n"
     ]
    },
    {
     "name": "stderr",
     "output_type": "stream",
     "text": [
      " 66%|██████▌   | 66/100 [46:11<23:41, 41.82s/it]"
     ]
    },
    {
     "name": "stdout",
     "output_type": "stream",
     "text": [
      "66 0 tensor(0.0085, device='cuda:0', grad_fn=<DivBackward0>)\n",
      "backward\n",
      "66 1 tensor(0.0726, device='cuda:0', grad_fn=<DivBackward0>)\n",
      "backward\n",
      "66 2 tensor(0.0108, device='cuda:0', grad_fn=<DivBackward0>)\n",
      "backward\n",
      "66 3 tensor(0.0497, device='cuda:0', grad_fn=<DivBackward0>)\n",
      "backward\n",
      "66 4 tensor(0.0327, device='cuda:0', grad_fn=<DivBackward0>)\n",
      "backward\n",
      "66 5 tensor(0.0106, device='cuda:0', grad_fn=<DivBackward0>)\n",
      "backward\n",
      "66 6 tensor(0.0177, device='cuda:0', grad_fn=<DivBackward0>)\n",
      "backward\n"
     ]
    },
    {
     "name": "stderr",
     "output_type": "stream",
     "text": [
      " 67%|██████▋   | 67/100 [46:56<23:32, 42.80s/it]"
     ]
    },
    {
     "name": "stdout",
     "output_type": "stream",
     "text": [
      "67 0 tensor(0.0185, device='cuda:0', grad_fn=<DivBackward0>)\n",
      "backward\n",
      "67 1 tensor(0.0332, device='cuda:0', grad_fn=<DivBackward0>)\n",
      "backward\n",
      "67 2 tensor(0.0747, device='cuda:0', grad_fn=<DivBackward0>)\n",
      "backward\n",
      "67 3 tensor(0.0029, device='cuda:0', grad_fn=<DivBackward0>)\n",
      "backward\n",
      "67 4 tensor(0.0067, device='cuda:0', grad_fn=<DivBackward0>)\n",
      "backward\n",
      "67 5 tensor(0.0987, device='cuda:0', grad_fn=<DivBackward0>)\n",
      "backward\n",
      "67 6 tensor(0.0128, device='cuda:0', grad_fn=<DivBackward0>)\n",
      "backward\n"
     ]
    },
    {
     "name": "stderr",
     "output_type": "stream",
     "text": [
      " 68%|██████▊   | 68/100 [47:41<23:14, 43.58s/it]"
     ]
    },
    {
     "name": "stdout",
     "output_type": "stream",
     "text": [
      "68 0 tensor(0.0054, device='cuda:0', grad_fn=<DivBackward0>)\n",
      "backward\n",
      "68 1 tensor(0.0808, device='cuda:0', grad_fn=<DivBackward0>)\n",
      "backward\n",
      "68 2 tensor(0.0390, device='cuda:0', grad_fn=<DivBackward0>)\n",
      "backward\n",
      "68 3 tensor(0.0649, device='cuda:0', grad_fn=<DivBackward0>)\n",
      "backward\n",
      "68 4 tensor(0.0524, device='cuda:0', grad_fn=<DivBackward0>)\n",
      "backward\n",
      "68 5 tensor(0.0076, device='cuda:0', grad_fn=<DivBackward0>)\n",
      "backward\n",
      "68 6 tensor(0.4255, device='cuda:0', grad_fn=<DivBackward0>)\n",
      "backward\n"
     ]
    },
    {
     "name": "stderr",
     "output_type": "stream",
     "text": [
      " 69%|██████▉   | 69/100 [48:27<22:50, 44.22s/it]"
     ]
    },
    {
     "name": "stdout",
     "output_type": "stream",
     "text": [
      "69 0 tensor(0.3087, device='cuda:0', grad_fn=<DivBackward0>)\n",
      "backward\n",
      "69 1 tensor(0.0888, device='cuda:0', grad_fn=<DivBackward0>)\n",
      "backward\n",
      "69 2 tensor(0.0626, device='cuda:0', grad_fn=<DivBackward0>)\n",
      "backward\n",
      "69 3 tensor(0.1372, device='cuda:0', grad_fn=<DivBackward0>)\n",
      "backward\n",
      "69 4 tensor(0.1426, device='cuda:0', grad_fn=<DivBackward0>)\n",
      "backward\n",
      "69 5 tensor(0.0174, device='cuda:0', grad_fn=<DivBackward0>)\n",
      "backward\n",
      "69 6 tensor(0.0528, device='cuda:0', grad_fn=<DivBackward0>)\n",
      "backward\n"
     ]
    },
    {
     "name": "stderr",
     "output_type": "stream",
     "text": [
      " 70%|███████   | 70/100 [49:12<22:18, 44.63s/it]"
     ]
    },
    {
     "name": "stdout",
     "output_type": "stream",
     "text": [
      "70 0 tensor(0.0151, device='cuda:0', grad_fn=<DivBackward0>)\n",
      "backward\n",
      "70 1 tensor(0.0015, device='cuda:0', grad_fn=<DivBackward0>)\n",
      "backward\n",
      "70 2 tensor(0.0748, device='cuda:0', grad_fn=<DivBackward0>)\n",
      "backward\n",
      "70 3 tensor(0.1039, device='cuda:0', grad_fn=<DivBackward0>)\n",
      "backward\n",
      "70 4 tensor(0.0033, device='cuda:0', grad_fn=<DivBackward0>)\n",
      "backward\n",
      "70 5 tensor(0.0124, device='cuda:0', grad_fn=<DivBackward0>)\n",
      "backward\n",
      "70 6 tensor(0.0449, device='cuda:0', grad_fn=<DivBackward0>)\n",
      "backward\n"
     ]
    },
    {
     "name": "stderr",
     "output_type": "stream",
     "text": [
      " 71%|███████   | 71/100 [49:58<21:40, 44.84s/it]"
     ]
    },
    {
     "name": "stdout",
     "output_type": "stream",
     "text": [
      "70 3.9034770553698763\n",
      "71 0 tensor(0.1273, device='cuda:0', grad_fn=<DivBackward0>)\n",
      "backward\n",
      "71 1 tensor(0.0419, device='cuda:0', grad_fn=<DivBackward0>)\n",
      "backward\n",
      "71 2 tensor(0.0404, device='cuda:0', grad_fn=<DivBackward0>)\n",
      "backward\n",
      "71 3 tensor(0.0098, device='cuda:0', grad_fn=<DivBackward0>)\n",
      "backward\n",
      "71 4 tensor(0.0511, device='cuda:0', grad_fn=<DivBackward0>)\n",
      "backward\n",
      "71 5 tensor(0.0569, device='cuda:0', grad_fn=<DivBackward0>)\n",
      "backward\n",
      "71 6 tensor(0.0027, device='cuda:0', grad_fn=<DivBackward0>)\n",
      "backward\n"
     ]
    },
    {
     "name": "stderr",
     "output_type": "stream",
     "text": [
      " 72%|███████▏  | 72/100 [50:44<21:07, 45.26s/it]"
     ]
    },
    {
     "name": "stdout",
     "output_type": "stream",
     "text": [
      "72 0 tensor(0.0062, device='cuda:0', grad_fn=<DivBackward0>)\n",
      "backward\n",
      "72 1 tensor(0.0439, device='cuda:0', grad_fn=<DivBackward0>)\n",
      "backward\n",
      "72 2 tensor(0.0626, device='cuda:0', grad_fn=<DivBackward0>)\n",
      "backward\n",
      "72 3 tensor(0.0940, device='cuda:0', grad_fn=<DivBackward0>)\n",
      "backward\n",
      "72 4 tensor(0.0834, device='cuda:0', grad_fn=<DivBackward0>)\n",
      "backward\n",
      "72 5 tensor(0.0443, device='cuda:0', grad_fn=<DivBackward0>)\n",
      "backward\n",
      "72 6 tensor(0.0993, device='cuda:0', grad_fn=<DivBackward0>)\n",
      "backward\n"
     ]
    },
    {
     "name": "stderr",
     "output_type": "stream",
     "text": [
      " 73%|███████▎  | 73/100 [51:30<20:27, 45.46s/it]"
     ]
    },
    {
     "name": "stdout",
     "output_type": "stream",
     "text": [
      "73 0 tensor(0.0321, device='cuda:0', grad_fn=<DivBackward0>)\n",
      "backward\n",
      "73 1 tensor(0.0307, device='cuda:0', grad_fn=<DivBackward0>)\n",
      "backward\n",
      "73 2 tensor(0.0047, device='cuda:0', grad_fn=<DivBackward0>)\n",
      "backward\n",
      "73 3 tensor(0.1358, device='cuda:0', grad_fn=<DivBackward0>)\n",
      "backward\n",
      "73 4 tensor(0.0042, device='cuda:0', grad_fn=<DivBackward0>)\n",
      "backward\n",
      "73 5 tensor(0.0442, device='cuda:0', grad_fn=<DivBackward0>)\n",
      "backward\n",
      "73 6 tensor(0.0190, device='cuda:0', grad_fn=<DivBackward0>)\n",
      "backward\n"
     ]
    },
    {
     "name": "stderr",
     "output_type": "stream",
     "text": [
      " 74%|███████▍  | 74/100 [52:16<19:46, 45.62s/it]"
     ]
    },
    {
     "name": "stdout",
     "output_type": "stream",
     "text": [
      "74 0 tensor(0.0034, device='cuda:0', grad_fn=<DivBackward0>)\n",
      "backward\n",
      "74 1 tensor(0.0840, device='cuda:0', grad_fn=<DivBackward0>)\n",
      "backward\n",
      "74 2 tensor(0.0229, device='cuda:0', grad_fn=<DivBackward0>)\n",
      "backward\n",
      "74 3 tensor(0.1725, device='cuda:0', grad_fn=<DivBackward0>)\n",
      "backward\n",
      "74 4 tensor(0.0045, device='cuda:0', grad_fn=<DivBackward0>)\n",
      "backward\n",
      "74 5 tensor(0.0182, device='cuda:0', grad_fn=<DivBackward0>)\n",
      "backward\n",
      "74 6 tensor(0.0080, device='cuda:0', grad_fn=<DivBackward0>)\n",
      "backward\n"
     ]
    },
    {
     "name": "stderr",
     "output_type": "stream",
     "text": [
      " 75%|███████▌  | 75/100 [53:02<19:06, 45.85s/it]"
     ]
    },
    {
     "name": "stdout",
     "output_type": "stream",
     "text": [
      "75 0 tensor(0.1108, device='cuda:0', grad_fn=<DivBackward0>)\n",
      "backward\n",
      "75 1 tensor(0.0215, device='cuda:0', grad_fn=<DivBackward0>)\n",
      "backward\n",
      "75 2 tensor(0.0033, device='cuda:0', grad_fn=<DivBackward0>)\n",
      "backward\n",
      "75 3 tensor(0.0215, device='cuda:0', grad_fn=<DivBackward0>)\n",
      "backward\n",
      "75 4 tensor(0.0015, device='cuda:0', grad_fn=<DivBackward0>)\n",
      "backward\n",
      "75 5 tensor(0.0476, device='cuda:0', grad_fn=<DivBackward0>)\n",
      "backward\n",
      "75 6 tensor(0.0014, device='cuda:0', grad_fn=<DivBackward0>)\n",
      "backward\n"
     ]
    },
    {
     "name": "stderr",
     "output_type": "stream",
     "text": [
      " 76%|███████▌  | 76/100 [53:49<18:24, 46.00s/it]"
     ]
    },
    {
     "name": "stdout",
     "output_type": "stream",
     "text": [
      "76 0 tensor(0.0074, device='cuda:0', grad_fn=<DivBackward0>)\n",
      "backward\n",
      "76 1 tensor(0.0447, device='cuda:0', grad_fn=<DivBackward0>)\n",
      "backward\n",
      "76 2 tensor(0.0164, device='cuda:0', grad_fn=<DivBackward0>)\n",
      "backward\n",
      "76 3 tensor(0.0026, device='cuda:0', grad_fn=<DivBackward0>)\n",
      "backward\n",
      "76 4 tensor(0.0463, device='cuda:0', grad_fn=<DivBackward0>)\n",
      "backward\n",
      "76 5 tensor(0.1426, device='cuda:0', grad_fn=<DivBackward0>)\n",
      "backward\n",
      "76 6 tensor(0.0466, device='cuda:0', grad_fn=<DivBackward0>)\n",
      "backward\n"
     ]
    },
    {
     "name": "stderr",
     "output_type": "stream",
     "text": [
      " 77%|███████▋  | 77/100 [54:34<17:36, 45.94s/it]"
     ]
    },
    {
     "name": "stdout",
     "output_type": "stream",
     "text": [
      "77 0 tensor(0.0055, device='cuda:0', grad_fn=<DivBackward0>)\n",
      "backward\n",
      "77 1 tensor(0.0321, device='cuda:0', grad_fn=<DivBackward0>)\n",
      "backward\n",
      "77 2 tensor(0.0023, device='cuda:0', grad_fn=<DivBackward0>)\n",
      "backward\n",
      "77 3 tensor(0.0303, device='cuda:0', grad_fn=<DivBackward0>)\n",
      "backward\n",
      "77 4 tensor(0.0632, device='cuda:0', grad_fn=<DivBackward0>)\n",
      "backward\n",
      "77 5 tensor(0.0499, device='cuda:0', grad_fn=<DivBackward0>)\n",
      "backward\n",
      "77 6 tensor(0.0018, device='cuda:0', grad_fn=<DivBackward0>)\n",
      "backward\n"
     ]
    },
    {
     "name": "stderr",
     "output_type": "stream",
     "text": [
      " 78%|███████▊  | 78/100 [55:20<16:45, 45.69s/it]"
     ]
    },
    {
     "name": "stdout",
     "output_type": "stream",
     "text": [
      "78 0 tensor(0.0128, device='cuda:0', grad_fn=<DivBackward0>)\n",
      "backward\n",
      "78 1 tensor(0.0041, device='cuda:0', grad_fn=<DivBackward0>)\n",
      "backward\n",
      "78 2 tensor(0.0041, device='cuda:0', grad_fn=<DivBackward0>)\n",
      "backward\n",
      "78 3 tensor(0.0055, device='cuda:0', grad_fn=<DivBackward0>)\n",
      "backward\n",
      "78 4 tensor(0.0075, device='cuda:0', grad_fn=<DivBackward0>)\n",
      "backward\n",
      "78 5 tensor(0.0138, device='cuda:0', grad_fn=<DivBackward0>)\n",
      "backward\n",
      "78 6 tensor(0.0698, device='cuda:0', grad_fn=<DivBackward0>)\n",
      "backward\n"
     ]
    },
    {
     "name": "stderr",
     "output_type": "stream",
     "text": [
      " 79%|███████▉  | 79/100 [56:06<16:02, 45.85s/it]"
     ]
    },
    {
     "name": "stdout",
     "output_type": "stream",
     "text": [
      "79 0 tensor(0.0612, device='cuda:0', grad_fn=<DivBackward0>)\n",
      "backward\n",
      "79 1 tensor(0.0019, device='cuda:0', grad_fn=<DivBackward0>)\n",
      "backward\n",
      "79 2 tensor(0.0570, device='cuda:0', grad_fn=<DivBackward0>)\n",
      "backward\n",
      "79 3 tensor(0.0014, device='cuda:0', grad_fn=<DivBackward0>)\n",
      "backward\n",
      "79 4 tensor(0.2156, device='cuda:0', grad_fn=<DivBackward0>)\n",
      "backward\n",
      "79 5 tensor(0.0718, device='cuda:0', grad_fn=<DivBackward0>)\n",
      "backward\n",
      "79 6 tensor(0.0305, device='cuda:0', grad_fn=<DivBackward0>)\n",
      "backward\n"
     ]
    },
    {
     "name": "stderr",
     "output_type": "stream",
     "text": [
      " 80%|████████  | 80/100 [56:51<15:15, 45.76s/it]"
     ]
    },
    {
     "name": "stdout",
     "output_type": "stream",
     "text": [
      "80 0 tensor(0.0079, device='cuda:0', grad_fn=<DivBackward0>)\n",
      "backward\n",
      "80 1 tensor(0.0166, device='cuda:0', grad_fn=<DivBackward0>)\n",
      "backward\n",
      "80 2 tensor(0.0313, device='cuda:0', grad_fn=<DivBackward0>)\n",
      "backward\n",
      "80 3 tensor(0.0017, device='cuda:0', grad_fn=<DivBackward0>)\n",
      "backward\n",
      "80 4 tensor(0.0418, device='cuda:0', grad_fn=<DivBackward0>)\n",
      "backward\n",
      "80 5 tensor(0.0195, device='cuda:0', grad_fn=<DivBackward0>)\n",
      "backward\n",
      "80 6 tensor(0.1016, device='cuda:0', grad_fn=<DivBackward0>)\n",
      "backward\n"
     ]
    },
    {
     "name": "stderr",
     "output_type": "stream",
     "text": [
      " 81%|████████  | 81/100 [57:36<14:25, 45.57s/it]"
     ]
    },
    {
     "name": "stdout",
     "output_type": "stream",
     "text": [
      "80 2.8243485097773373\n",
      "81 0 tensor(0.0807, device='cuda:0', grad_fn=<DivBackward0>)\n",
      "backward\n",
      "81 1 tensor(0.0086, device='cuda:0', grad_fn=<DivBackward0>)\n",
      "backward\n",
      "81 2 tensor(0.0314, device='cuda:0', grad_fn=<DivBackward0>)\n",
      "backward\n",
      "81 3 tensor(0.0491, device='cuda:0', grad_fn=<DivBackward0>)\n",
      "backward\n",
      "81 4 tensor(0.0283, device='cuda:0', grad_fn=<DivBackward0>)\n",
      "backward\n",
      "81 5 tensor(0.0115, device='cuda:0', grad_fn=<DivBackward0>)\n",
      "backward\n",
      "81 6 tensor(0.0448, device='cuda:0', grad_fn=<DivBackward0>)\n",
      "backward\n"
     ]
    },
    {
     "name": "stderr",
     "output_type": "stream",
     "text": [
      " 82%|████████▏ | 82/100 [58:22<13:41, 45.64s/it]"
     ]
    },
    {
     "name": "stdout",
     "output_type": "stream",
     "text": [
      "82 0 tensor(0.0847, device='cuda:0', grad_fn=<DivBackward0>)\n",
      "backward\n",
      "82 1 tensor(0.0058, device='cuda:0', grad_fn=<DivBackward0>)\n",
      "backward\n",
      "82 2 tensor(0.0760, device='cuda:0', grad_fn=<DivBackward0>)\n",
      "backward\n",
      "82 3 tensor(0.0045, device='cuda:0', grad_fn=<DivBackward0>)\n",
      "backward\n",
      "82 4 tensor(0.0137, device='cuda:0', grad_fn=<DivBackward0>)\n",
      "backward\n",
      "82 5 tensor(0.0072, device='cuda:0', grad_fn=<DivBackward0>)\n",
      "backward\n",
      "82 6 tensor(0.0075, device='cuda:0', grad_fn=<DivBackward0>)\n",
      "backward\n"
     ]
    },
    {
     "name": "stderr",
     "output_type": "stream",
     "text": [
      " 83%|████████▎ | 83/100 [59:10<13:03, 46.12s/it]"
     ]
    },
    {
     "name": "stdout",
     "output_type": "stream",
     "text": [
      "83 0 tensor(0.0054, device='cuda:0', grad_fn=<DivBackward0>)\n",
      "backward\n",
      "83 1 tensor(0.0503, device='cuda:0', grad_fn=<DivBackward0>)\n",
      "backward\n",
      "83 2 tensor(0.0018, device='cuda:0', grad_fn=<DivBackward0>)\n",
      "backward\n",
      "83 3 tensor(0.1781, device='cuda:0', grad_fn=<DivBackward0>)\n",
      "backward\n",
      "83 4 tensor(0.0820, device='cuda:0', grad_fn=<DivBackward0>)\n",
      "backward\n",
      "83 5 tensor(0.0268, device='cuda:0', grad_fn=<DivBackward0>)\n",
      "backward\n",
      "83 6 tensor(0.0119, device='cuda:0', grad_fn=<DivBackward0>)\n",
      "backward\n"
     ]
    },
    {
     "name": "stderr",
     "output_type": "stream",
     "text": [
      " 84%|████████▍ | 84/100 [59:55<12:14, 45.89s/it]"
     ]
    },
    {
     "name": "stdout",
     "output_type": "stream",
     "text": [
      "84 0 tensor(0.0057, device='cuda:0', grad_fn=<DivBackward0>)\n",
      "backward\n",
      "84 1 tensor(0.0244, device='cuda:0', grad_fn=<DivBackward0>)\n",
      "backward\n",
      "84 2 tensor(0.0995, device='cuda:0', grad_fn=<DivBackward0>)\n",
      "backward\n",
      "84 3 tensor(0.2125, device='cuda:0', grad_fn=<DivBackward0>)\n",
      "backward\n",
      "84 4 tensor(0.1344, device='cuda:0', grad_fn=<DivBackward0>)\n",
      "backward\n",
      "84 5 tensor(0.0058, device='cuda:0', grad_fn=<DivBackward0>)\n",
      "backward\n",
      "84 6 tensor(0.0941, device='cuda:0', grad_fn=<DivBackward0>)\n",
      "backward\n"
     ]
    },
    {
     "name": "stderr",
     "output_type": "stream",
     "text": [
      " 85%|████████▌ | 85/100 [1:00:41<11:29, 46.00s/it]"
     ]
    },
    {
     "name": "stdout",
     "output_type": "stream",
     "text": [
      "85 0 tensor(0.0037, device='cuda:0', grad_fn=<DivBackward0>)\n",
      "backward\n",
      "85 1 tensor(0.0345, device='cuda:0', grad_fn=<DivBackward0>)\n",
      "backward\n",
      "85 2 tensor(0.3034, device='cuda:0', grad_fn=<DivBackward0>)\n",
      "backward\n",
      "85 3 tensor(0.0277, device='cuda:0', grad_fn=<DivBackward0>)\n",
      "backward\n",
      "85 4 tensor(0.0014, device='cuda:0', grad_fn=<DivBackward0>)\n",
      "backward\n",
      "85 5 tensor(0.0970, device='cuda:0', grad_fn=<DivBackward0>)\n",
      "backward\n",
      "85 6 tensor(0.0739, device='cuda:0', grad_fn=<DivBackward0>)\n",
      "backward\n"
     ]
    },
    {
     "name": "stderr",
     "output_type": "stream",
     "text": [
      " 86%|████████▌ | 86/100 [1:01:27<10:43, 45.94s/it]"
     ]
    },
    {
     "name": "stdout",
     "output_type": "stream",
     "text": [
      "86 0 tensor(0.0163, device='cuda:0', grad_fn=<DivBackward0>)\n",
      "backward\n",
      "86 1 tensor(0.0060, device='cuda:0', grad_fn=<DivBackward0>)\n",
      "backward\n",
      "86 2 tensor(0.0133, device='cuda:0', grad_fn=<DivBackward0>)\n",
      "backward\n",
      "86 3 tensor(0.0137, device='cuda:0', grad_fn=<DivBackward0>)\n",
      "backward\n",
      "86 4 tensor(0.0047, device='cuda:0', grad_fn=<DivBackward0>)\n",
      "backward\n",
      "86 5 tensor(0.0041, device='cuda:0', grad_fn=<DivBackward0>)\n",
      "backward\n",
      "86 6 tensor(0.0424, device='cuda:0', grad_fn=<DivBackward0>)\n",
      "backward\n"
     ]
    },
    {
     "name": "stderr",
     "output_type": "stream",
     "text": [
      " 87%|████████▋ | 87/100 [1:02:12<09:55, 45.82s/it]"
     ]
    },
    {
     "name": "stdout",
     "output_type": "stream",
     "text": [
      "87 0 tensor(0.0392, device='cuda:0', grad_fn=<DivBackward0>)\n",
      "backward\n",
      "87 1 tensor(0.2408, device='cuda:0', grad_fn=<DivBackward0>)\n",
      "backward\n",
      "87 2 tensor(0.0088, device='cuda:0', grad_fn=<DivBackward0>)\n",
      "backward\n",
      "87 3 tensor(0.1102, device='cuda:0', grad_fn=<DivBackward0>)\n",
      "backward\n",
      "87 4 tensor(0.0016, device='cuda:0', grad_fn=<DivBackward0>)\n",
      "backward\n",
      "87 5 tensor(0.2118, device='cuda:0', grad_fn=<DivBackward0>)\n",
      "backward\n",
      "87 6 tensor(0.0322, device='cuda:0', grad_fn=<DivBackward0>)\n",
      "backward\n"
     ]
    },
    {
     "name": "stderr",
     "output_type": "stream",
     "text": [
      " 88%|████████▊ | 88/100 [1:02:58<09:09, 45.82s/it]"
     ]
    },
    {
     "name": "stdout",
     "output_type": "stream",
     "text": [
      "88 0 tensor(0.0305, device='cuda:0', grad_fn=<DivBackward0>)\n",
      "backward\n",
      "88 1 tensor(0.0154, device='cuda:0', grad_fn=<DivBackward0>)\n",
      "backward\n",
      "88 2 tensor(0.0871, device='cuda:0', grad_fn=<DivBackward0>)\n",
      "backward\n",
      "88 3 tensor(0.0188, device='cuda:0', grad_fn=<DivBackward0>)\n",
      "backward\n",
      "88 4 tensor(0.0870, device='cuda:0', grad_fn=<DivBackward0>)\n",
      "backward\n",
      "88 5 tensor(0.0136, device='cuda:0', grad_fn=<DivBackward0>)\n",
      "backward\n",
      "88 6 tensor(0.0196, device='cuda:0', grad_fn=<DivBackward0>)\n",
      "backward\n"
     ]
    },
    {
     "name": "stderr",
     "output_type": "stream",
     "text": [
      " 89%|████████▉ | 89/100 [1:03:44<08:24, 45.85s/it]"
     ]
    },
    {
     "name": "stdout",
     "output_type": "stream",
     "text": [
      "89 0 tensor(0.0407, device='cuda:0', grad_fn=<DivBackward0>)\n",
      "backward\n",
      "89 1 tensor(0.0113, device='cuda:0', grad_fn=<DivBackward0>)\n",
      "backward\n",
      "89 2 tensor(0.0161, device='cuda:0', grad_fn=<DivBackward0>)\n",
      "backward\n",
      "89 3 tensor(0.0130, device='cuda:0', grad_fn=<DivBackward0>)\n",
      "backward\n",
      "89 4 tensor(0.0067, device='cuda:0', grad_fn=<DivBackward0>)\n",
      "backward\n",
      "89 5 tensor(0.0206, device='cuda:0', grad_fn=<DivBackward0>)\n",
      "backward\n",
      "89 6 tensor(0.0280, device='cuda:0', grad_fn=<DivBackward0>)\n",
      "backward\n"
     ]
    },
    {
     "name": "stderr",
     "output_type": "stream",
     "text": [
      " 90%|█████████ | 90/100 [1:04:28<07:31, 45.10s/it]"
     ]
    },
    {
     "name": "stdout",
     "output_type": "stream",
     "text": [
      "90 0 tensor(0.0337, device='cuda:0', grad_fn=<DivBackward0>)\n",
      "backward\n",
      "90 1 tensor(0.0215, device='cuda:0', grad_fn=<DivBackward0>)\n",
      "backward\n",
      "90 2 tensor(0.0049, device='cuda:0', grad_fn=<DivBackward0>)\n",
      "backward\n",
      "90 3 tensor(0.0885, device='cuda:0', grad_fn=<DivBackward0>)\n",
      "backward\n",
      "90 4 tensor(0.0087, device='cuda:0', grad_fn=<DivBackward0>)\n",
      "backward\n",
      "90 5 tensor(0.0517, device='cuda:0', grad_fn=<DivBackward0>)\n",
      "backward\n",
      "90 6 tensor(0.0220, device='cuda:0', grad_fn=<DivBackward0>)\n",
      "backward\n"
     ]
    },
    {
     "name": "stderr",
     "output_type": "stream",
     "text": [
      " 91%|█████████ | 91/100 [1:05:07<06:31, 43.52s/it]"
     ]
    },
    {
     "name": "stdout",
     "output_type": "stream",
     "text": [
      "90 3.3127932583447546\n",
      "91 0 tensor(0.0018, device='cuda:0', grad_fn=<DivBackward0>)\n",
      "backward\n",
      "91 1 tensor(0.0846, device='cuda:0', grad_fn=<DivBackward0>)\n",
      "backward\n",
      "91 2 tensor(0.0130, device='cuda:0', grad_fn=<DivBackward0>)\n",
      "backward\n",
      "91 3 tensor(0.0090, device='cuda:0', grad_fn=<DivBackward0>)\n",
      "backward\n",
      "91 4 tensor(0.0285, device='cuda:0', grad_fn=<DivBackward0>)\n",
      "backward\n",
      "91 5 tensor(0.0464, device='cuda:0', grad_fn=<DivBackward0>)\n",
      "backward\n",
      "91 6 tensor(0.0850, device='cuda:0', grad_fn=<DivBackward0>)\n",
      "backward\n"
     ]
    },
    {
     "name": "stderr",
     "output_type": "stream",
     "text": [
      " 92%|█████████▏| 92/100 [1:05:47<05:38, 42.31s/it]"
     ]
    },
    {
     "name": "stdout",
     "output_type": "stream",
     "text": [
      "92 0 tensor(0.0069, device='cuda:0', grad_fn=<DivBackward0>)\n",
      "backward\n",
      "92 1 tensor(0.0028, device='cuda:0', grad_fn=<DivBackward0>)\n",
      "backward\n",
      "92 2 tensor(0.0094, device='cuda:0', grad_fn=<DivBackward0>)\n",
      "backward\n",
      "92 3 tensor(0.0621, device='cuda:0', grad_fn=<DivBackward0>)\n",
      "backward\n",
      "92 4 tensor(0.0340, device='cuda:0', grad_fn=<DivBackward0>)\n",
      "backward\n",
      "92 5 tensor(0.0739, device='cuda:0', grad_fn=<DivBackward0>)\n",
      "backward\n",
      "92 6 tensor(0.0015, device='cuda:0', grad_fn=<DivBackward0>)\n",
      "backward\n"
     ]
    },
    {
     "name": "stderr",
     "output_type": "stream",
     "text": [
      " 93%|█████████▎| 93/100 [1:06:26<04:50, 41.47s/it]"
     ]
    },
    {
     "name": "stdout",
     "output_type": "stream",
     "text": [
      "93 0 tensor(0.0261, device='cuda:0', grad_fn=<DivBackward0>)\n",
      "backward\n",
      "93 1 tensor(0.1455, device='cuda:0', grad_fn=<DivBackward0>)\n",
      "backward\n",
      "93 2 tensor(0.1005, device='cuda:0', grad_fn=<DivBackward0>)\n",
      "backward\n",
      "93 3 tensor(0.0169, device='cuda:0', grad_fn=<DivBackward0>)\n",
      "backward\n",
      "93 4 tensor(0.0054, device='cuda:0', grad_fn=<DivBackward0>)\n",
      "backward\n",
      "93 5 tensor(0.0023, device='cuda:0', grad_fn=<DivBackward0>)\n",
      "backward\n",
      "93 6 tensor(0.0099, device='cuda:0', grad_fn=<DivBackward0>)\n",
      "backward\n"
     ]
    },
    {
     "name": "stderr",
     "output_type": "stream",
     "text": [
      " 94%|█████████▍| 94/100 [1:07:06<04:04, 40.80s/it]"
     ]
    },
    {
     "name": "stdout",
     "output_type": "stream",
     "text": [
      "94 0 tensor(0.0083, device='cuda:0', grad_fn=<DivBackward0>)\n",
      "backward\n",
      "94 1 tensor(0.0070, device='cuda:0', grad_fn=<DivBackward0>)\n",
      "backward\n",
      "94 2 tensor(0.0125, device='cuda:0', grad_fn=<DivBackward0>)\n",
      "backward\n",
      "94 3 tensor(0.0030, device='cuda:0', grad_fn=<DivBackward0>)\n",
      "backward\n",
      "94 4 tensor(0.0170, device='cuda:0', grad_fn=<DivBackward0>)\n",
      "backward\n",
      "94 5 tensor(0.0014, device='cuda:0', grad_fn=<DivBackward0>)\n",
      "backward\n",
      "94 6 tensor(0.0551, device='cuda:0', grad_fn=<DivBackward0>)\n",
      "backward\n"
     ]
    },
    {
     "name": "stderr",
     "output_type": "stream",
     "text": [
      " 95%|█████████▌| 95/100 [1:07:44<03:21, 40.21s/it]"
     ]
    },
    {
     "name": "stdout",
     "output_type": "stream",
     "text": [
      "95 0 tensor(0.0122, device='cuda:0', grad_fn=<DivBackward0>)\n",
      "backward\n",
      "95 1 tensor(0.0056, device='cuda:0', grad_fn=<DivBackward0>)\n",
      "backward\n",
      "95 2 tensor(0.0513, device='cuda:0', grad_fn=<DivBackward0>)\n",
      "backward\n",
      "95 3 tensor(0.0026, device='cuda:0', grad_fn=<DivBackward0>)\n",
      "backward\n",
      "95 4 tensor(0.0412, device='cuda:0', grad_fn=<DivBackward0>)\n",
      "backward\n",
      "95 5 tensor(0.0234, device='cuda:0', grad_fn=<DivBackward0>)\n",
      "backward\n",
      "95 6 tensor(0.0017, device='cuda:0', grad_fn=<DivBackward0>)\n",
      "backward\n"
     ]
    },
    {
     "name": "stderr",
     "output_type": "stream",
     "text": [
      " 96%|█████████▌| 96/100 [1:08:25<02:41, 40.45s/it]"
     ]
    },
    {
     "name": "stdout",
     "output_type": "stream",
     "text": [
      "96 0 tensor(0.0067, device='cuda:0', grad_fn=<DivBackward0>)\n",
      "backward\n",
      "96 1 tensor(0.0055, device='cuda:0', grad_fn=<DivBackward0>)\n",
      "backward\n",
      "96 2 tensor(0.0221, device='cuda:0', grad_fn=<DivBackward0>)\n",
      "backward\n",
      "96 3 tensor(0.0101, device='cuda:0', grad_fn=<DivBackward0>)\n",
      "backward\n",
      "96 4 tensor(0.0118, device='cuda:0', grad_fn=<DivBackward0>)\n",
      "backward\n",
      "96 5 tensor(0.0714, device='cuda:0', grad_fn=<DivBackward0>)\n",
      "backward\n",
      "96 6 tensor(0.0645, device='cuda:0', grad_fn=<DivBackward0>)\n",
      "backward\n"
     ]
    },
    {
     "name": "stderr",
     "output_type": "stream",
     "text": [
      " 97%|█████████▋| 97/100 [1:09:06<02:01, 40.59s/it]"
     ]
    },
    {
     "name": "stdout",
     "output_type": "stream",
     "text": [
      "97 0 tensor(0.0240, device='cuda:0', grad_fn=<DivBackward0>)\n",
      "backward\n",
      "97 1 tensor(0.0160, device='cuda:0', grad_fn=<DivBackward0>)\n",
      "backward\n",
      "97 2 tensor(0.1492, device='cuda:0', grad_fn=<DivBackward0>)\n",
      "backward\n",
      "97 3 tensor(0.0677, device='cuda:0', grad_fn=<DivBackward0>)\n",
      "backward\n",
      "97 4 tensor(0.0647, device='cuda:0', grad_fn=<DivBackward0>)\n",
      "backward\n",
      "97 5 tensor(0.0026, device='cuda:0', grad_fn=<DivBackward0>)\n",
      "backward\n",
      "97 6 tensor(0.0149, device='cuda:0', grad_fn=<DivBackward0>)\n",
      "backward\n"
     ]
    },
    {
     "name": "stderr",
     "output_type": "stream",
     "text": [
      " 98%|█████████▊| 98/100 [1:09:45<01:20, 40.06s/it]"
     ]
    },
    {
     "name": "stdout",
     "output_type": "stream",
     "text": [
      "98 0 tensor(0.0058, device='cuda:0', grad_fn=<DivBackward0>)\n",
      "backward\n",
      "98 1 tensor(0.0356, device='cuda:0', grad_fn=<DivBackward0>)\n",
      "backward\n",
      "98 2 tensor(0.0022, device='cuda:0', grad_fn=<DivBackward0>)\n",
      "backward\n",
      "98 3 tensor(0.0146, device='cuda:0', grad_fn=<DivBackward0>)\n",
      "backward\n",
      "98 4 tensor(0.0513, device='cuda:0', grad_fn=<DivBackward0>)\n",
      "backward\n",
      "98 5 tensor(0.0788, device='cuda:0', grad_fn=<DivBackward0>)\n",
      "backward\n",
      "98 6 tensor(0.1277, device='cuda:0', grad_fn=<DivBackward0>)\n",
      "backward\n"
     ]
    },
    {
     "name": "stderr",
     "output_type": "stream",
     "text": [
      " 99%|█████████▉| 99/100 [1:10:24<00:39, 39.66s/it]"
     ]
    },
    {
     "name": "stdout",
     "output_type": "stream",
     "text": [
      "99 0 tensor(0.0047, device='cuda:0', grad_fn=<DivBackward0>)\n",
      "backward\n",
      "99 1 tensor(0.0030, device='cuda:0', grad_fn=<DivBackward0>)\n",
      "backward\n",
      "99 2 tensor(0.0298, device='cuda:0', grad_fn=<DivBackward0>)\n",
      "backward\n",
      "99 3 tensor(0.0135, device='cuda:0', grad_fn=<DivBackward0>)\n",
      "backward\n",
      "99 4 tensor(0.0091, device='cuda:0', grad_fn=<DivBackward0>)\n",
      "backward\n",
      "99 5 tensor(0.1400, device='cuda:0', grad_fn=<DivBackward0>)\n",
      "backward\n",
      "99 6 tensor(0.1070, device='cuda:0', grad_fn=<DivBackward0>)\n",
      "backward\n"
     ]
    },
    {
     "name": "stderr",
     "output_type": "stream",
     "text": [
      "100%|██████████| 100/100 [1:11:02<00:00, 42.63s/it]\n"
     ]
    }
   ],
   "source": [
    "from tqdm import tqdm\n",
    "def train():\n",
    "    loss_sum = 0\n",
    "    for epoch in tqdm(range(100)):\n",
    "        for i, data in enumerate(loader):\n",
    "            loss = get_loss(data) / 4\n",
    "            print(epoch, i, loss)\n",
    "            loss.backward()\n",
    "            print('backward')\n",
    "            loss_sum += loss.item()\n",
    "\n",
    "            \n",
    "            torch.nn.utils.clip_grad_norm_(unet.parameters(), 1.0)\n",
    "            optimizer.step()\n",
    "            optimizer.zero_grad()\n",
    "\n",
    "        if epoch % 10 == 0:\n",
    "            print(epoch, loss_sum)\n",
    "            loss_sum = 0\n",
    "\n",
    "    #torch.save(unet.to('cpu'), 'saves/unet.model')\n",
    "\n",
    "\n",
    "train()\n",
    "torch.save(unet.to('cpu'), 'saves/unet2.pth')"
   ]
  }
 ],
 "metadata": {
  "kernelspec": {
   "display_name": "base",
   "language": "python",
   "name": "python3"
  },
  "language_info": {
   "codemirror_mode": {
    "name": "ipython",
    "version": 3
   },
   "file_extension": ".py",
   "mimetype": "text/x-python",
   "name": "python",
   "nbconvert_exporter": "python",
   "pygments_lexer": "ipython3",
   "version": "3.11.5"
  }
 },
 "nbformat": 4,
 "nbformat_minor": 2
}
